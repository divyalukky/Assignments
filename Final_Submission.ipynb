{
 "cells": [
  {
   "cell_type": "markdown",
   "metadata": {},
   "source": [
    "# Data Dictionary"
   ]
  },
  {
   "cell_type": "code",
   "execution_count": 187,
   "metadata": {
    "collapsed": true
   },
   "outputs": [],
   "source": [
    "# Variable -----> Description\n",
    "# id -----> Unique ID for every Customer\n",
    "# account_type -----> Account Type – current or saving\n",
    "# gender -----> Gender of customer\n",
    "# age -----> Age of customer\n",
    "# region_code -----> Code assigned to region of residence (has order)\n",
    "# cc_cons_apr -----> Credit card spend in April\n",
    "# dc_cons_apr -----> Debit card spend in April\n",
    "# cc_cons_may -----> Credit card spend in May\n",
    "# dc_cons_may -----> Debit card spend in May\n",
    "# cc_cons_jun -----> Credit card spend in June\n",
    "# dc_cons_jun -----> Debit card spend in June\n",
    "# cc_count_apr -----> Number of credit card transactions in April\n",
    "# cc_count_may -----> Number of credit card transactions in May\n",
    "# cc_count_jun -----> Number of credit card transactions in June\n",
    "# dc_count_apr -----> Number of debit card transactions in April\n",
    "# dc_count_may -----> Number of debit card transactions in May\n",
    "# dc_count_jun -----> Number of debit card transactions in June\n",
    "# card_lim -----> Maximum Credit Card Limit allocated\n",
    "# personal_loan_active -----> Active personal loan with other bank\n",
    "# vehicle_loan_active -----> Active Vehicle loan with other bank\n",
    "# personal_loan_closed -----> Closed personal loan in last 12 months\n",
    "# vehicle_loan_closed -----> Closed vehicle loan in last 12 months\n",
    "# investment_1 -----> DEMAT investment in june\n",
    "# investment_2 -----> fixed deposit investment in june\n",
    "# investment_3 -----> Life Insurance investment in June\n",
    "# investment_4 -----> General Insurance Investment in June\n",
    "# debit_amount_apr -----> Total amount debited for April\n",
    "# credit_amount_apr -----> Total amount credited for April\n",
    "# debit_count_apr -----> Total number of times amount debited in april\n",
    "# credit_count_apr -----> Total number of times amount credited in april\n",
    "# max_credit_amount_apr -----> Maximum amount credited in April\n",
    "# debit_amount_may -----> Total amount debited for May\n",
    "# credit_amount_may -----> Total amount credited for May\n",
    "# credit_count_may -----> Total number of times amount credited in May\n",
    "# debit_count_may -----> Total number of times amount debited in May\n",
    "# max_credit_amount_may -----> Maximum amount credited in May\n",
    "# debit_amount_jun -----> Total amount debited for June\n",
    "# credit_amount_jun -----> Total amount credited for June\n",
    "# credit_count_jun -----> Total number of times amount credited in June\n",
    "# debit_count_jun -----> Total number of times amount debited in June\n",
    "# max_credit_amount_jun -----> Maximum amount credited in June\n",
    "# loan_enq -----> Loan enquiry in last 3 months\n",
    "# emi_active -----> Monthly EMI paid to other bank for active loans\n",
    "# cc_cons -----> (Target) Average Credit Card Spend in next three months\n"
   ]
  },
  {
   "cell_type": "markdown",
   "metadata": {},
   "source": [
    "# Exploratory Data Analysis"
   ]
  },
  {
   "cell_type": "code",
   "execution_count": null,
   "metadata": {
    "collapsed": true
   },
   "outputs": [],
   "source": [
    "import pandas as pd\n",
    "import numpy as np\n",
    "import matplotlib.pyplot as plt\n",
    "import seaborn as sns\n",
    "%matplotlib inline\n",
    "pd.set_option('display.max_columns', None)\n",
    "pd.set_option('display.max_rows', None)"
   ]
  },
  {
   "cell_type": "code",
   "execution_count": 15,
   "metadata": {
    "collapsed": true
   },
   "outputs": [],
   "source": [
    "#For better understanding on numbers - Display commas and only two decimal points in numbers\n",
    "pd.options.display.float_format = '{:,.2f}'.format"
   ]
  },
  {
   "cell_type": "code",
   "execution_count": 188,
   "metadata": {
    "collapsed": true
   },
   "outputs": [],
   "source": [
    "# Data Fetching\n",
    "df = pd.read_csv('train.csv') "
   ]
  },
  {
   "cell_type": "code",
   "execution_count": 189,
   "metadata": {},
   "outputs": [
    {
     "data": {
      "text/plain": [
       "(32820, 44)"
      ]
     },
     "execution_count": 189,
     "metadata": {},
     "output_type": "execute_result"
    }
   ],
   "source": [
    "# Data Shape\n",
    "df.shape"
   ]
  },
  {
   "cell_type": "code",
   "execution_count": 190,
   "metadata": {},
   "outputs": [
    {
     "data": {
      "text/html": [
       "<div>\n",
       "<style>\n",
       "    .dataframe thead tr:only-child th {\n",
       "        text-align: right;\n",
       "    }\n",
       "\n",
       "    .dataframe thead th {\n",
       "        text-align: left;\n",
       "    }\n",
       "\n",
       "    .dataframe tbody tr th {\n",
       "        vertical-align: top;\n",
       "    }\n",
       "</style>\n",
       "<table border=\"1\" class=\"dataframe\">\n",
       "  <thead>\n",
       "    <tr style=\"text-align: right;\">\n",
       "      <th></th>\n",
       "      <th>id</th>\n",
       "      <th>account_type</th>\n",
       "      <th>gender</th>\n",
       "      <th>age</th>\n",
       "      <th>region_code</th>\n",
       "      <th>cc_cons_apr</th>\n",
       "      <th>dc_cons_apr</th>\n",
       "      <th>cc_cons_may</th>\n",
       "      <th>dc_cons_may</th>\n",
       "      <th>cc_cons_jun</th>\n",
       "      <th>dc_cons_jun</th>\n",
       "      <th>cc_count_apr</th>\n",
       "      <th>cc_count_may</th>\n",
       "      <th>cc_count_jun</th>\n",
       "      <th>dc_count_apr</th>\n",
       "      <th>dc_count_may</th>\n",
       "      <th>dc_count_jun</th>\n",
       "      <th>card_lim</th>\n",
       "      <th>personal_loan_active</th>\n",
       "      <th>vehicle_loan_active</th>\n",
       "      <th>personal_loan_closed</th>\n",
       "      <th>vehicle_loan_closed</th>\n",
       "      <th>investment_1</th>\n",
       "      <th>investment_2</th>\n",
       "      <th>investment_3</th>\n",
       "      <th>investment_4</th>\n",
       "      <th>debit_amount_apr</th>\n",
       "      <th>credit_amount_apr</th>\n",
       "      <th>debit_count_apr</th>\n",
       "      <th>credit_count_apr</th>\n",
       "      <th>max_credit_amount_apr</th>\n",
       "      <th>debit_amount_may</th>\n",
       "      <th>credit_amount_may</th>\n",
       "      <th>credit_count_may</th>\n",
       "      <th>debit_count_may</th>\n",
       "      <th>max_credit_amount_may</th>\n",
       "      <th>debit_amount_jun</th>\n",
       "      <th>credit_amount_jun</th>\n",
       "      <th>credit_count_jun</th>\n",
       "      <th>debit_count_jun</th>\n",
       "      <th>max_credit_amount_jun</th>\n",
       "      <th>loan_enq</th>\n",
       "      <th>emi_active</th>\n",
       "      <th>cc_cons</th>\n",
       "    </tr>\n",
       "  </thead>\n",
       "  <tbody>\n",
       "    <tr>\n",
       "      <th>0</th>\n",
       "      <td>23334</td>\n",
       "      <td>saving</td>\n",
       "      <td>M</td>\n",
       "      <td>63</td>\n",
       "      <td>305</td>\n",
       "      <td>7,695.00</td>\n",
       "      <td>nan</td>\n",
       "      <td>479.00</td>\n",
       "      <td>nan</td>\n",
       "      <td>622.00</td>\n",
       "      <td>nan</td>\n",
       "      <td>2.00</td>\n",
       "      <td>1.00</td>\n",
       "      <td>3.00</td>\n",
       "      <td>nan</td>\n",
       "      <td>nan</td>\n",
       "      <td>nan</td>\n",
       "      <td>150,000.00</td>\n",
       "      <td>nan</td>\n",
       "      <td>nan</td>\n",
       "      <td>nan</td>\n",
       "      <td>nan</td>\n",
       "      <td>nan</td>\n",
       "      <td>118,845.20</td>\n",
       "      <td>50,000.00</td>\n",
       "      <td>nan</td>\n",
       "      <td>51,205.47</td>\n",
       "      <td>50,259.00</td>\n",
       "      <td>3.00</td>\n",
       "      <td>1.00</td>\n",
       "      <td>50,000.00</td>\n",
       "      <td>24,740.22</td>\n",
       "      <td>114,252.00</td>\n",
       "      <td>3.00</td>\n",
       "      <td>2.00</td>\n",
       "      <td>45,000.00</td>\n",
       "      <td>20,215.85</td>\n",
       "      <td>1,279.37</td>\n",
       "      <td>7.00</td>\n",
       "      <td>3.00</td>\n",
       "      <td>470.00</td>\n",
       "      <td>NaN</td>\n",
       "      <td>0.00</td>\n",
       "      <td>435</td>\n",
       "    </tr>\n",
       "    <tr>\n",
       "      <th>1</th>\n",
       "      <td>20329</td>\n",
       "      <td>current</td>\n",
       "      <td>M</td>\n",
       "      <td>33</td>\n",
       "      <td>326</td>\n",
       "      <td>52,702.00</td>\n",
       "      <td>988.72</td>\n",
       "      <td>29,873.00</td>\n",
       "      <td>nan</td>\n",
       "      <td>1,087.00</td>\n",
       "      <td>2,806.24</td>\n",
       "      <td>11.00</td>\n",
       "      <td>14.00</td>\n",
       "      <td>11.00</td>\n",
       "      <td>1.00</td>\n",
       "      <td>nan</td>\n",
       "      <td>6.00</td>\n",
       "      <td>176,000.00</td>\n",
       "      <td>nan</td>\n",
       "      <td>nan</td>\n",
       "      <td>1.00</td>\n",
       "      <td>nan</td>\n",
       "      <td>nan</td>\n",
       "      <td>nan</td>\n",
       "      <td>nan</td>\n",
       "      <td>nan</td>\n",
       "      <td>159,050.76</td>\n",
       "      <td>169,812.00</td>\n",
       "      <td>20.00</td>\n",
       "      <td>9.00</td>\n",
       "      <td>70,000.00</td>\n",
       "      <td>103,102.85</td>\n",
       "      <td>174,606.00</td>\n",
       "      <td>6.00</td>\n",
       "      <td>10.00</td>\n",
       "      <td>150,000.00</td>\n",
       "      <td>122,037.66</td>\n",
       "      <td>55,390.00</td>\n",
       "      <td>8.00</td>\n",
       "      <td>19.00</td>\n",
       "      <td>27,000.00</td>\n",
       "      <td>NaN</td>\n",
       "      <td>4,963.33</td>\n",
       "      <td>1921</td>\n",
       "    </tr>\n",
       "    <tr>\n",
       "      <th>2</th>\n",
       "      <td>17679</td>\n",
       "      <td>current</td>\n",
       "      <td>M</td>\n",
       "      <td>44</td>\n",
       "      <td>264</td>\n",
       "      <td>10,800.49</td>\n",
       "      <td>3,215.52</td>\n",
       "      <td>21,660.00</td>\n",
       "      <td>1,607.00</td>\n",
       "      <td>1,168.00</td>\n",
       "      <td>355.00</td>\n",
       "      <td>6.00</td>\n",
       "      <td>9.00</td>\n",
       "      <td>6.00</td>\n",
       "      <td>3.00</td>\n",
       "      <td>2.00</td>\n",
       "      <td>14.00</td>\n",
       "      <td>65,000.00</td>\n",
       "      <td>nan</td>\n",
       "      <td>nan</td>\n",
       "      <td>nan</td>\n",
       "      <td>nan</td>\n",
       "      <td>nan</td>\n",
       "      <td>nan</td>\n",
       "      <td>nan</td>\n",
       "      <td>nan</td>\n",
       "      <td>51,484.55</td>\n",
       "      <td>38,942.00</td>\n",
       "      <td>16.00</td>\n",
       "      <td>4.00</td>\n",
       "      <td>11,700.00</td>\n",
       "      <td>15,283.00</td>\n",
       "      <td>23,051.00</td>\n",
       "      <td>2.00</td>\n",
       "      <td>7.00</td>\n",
       "      <td>13,800.00</td>\n",
       "      <td>46,827.00</td>\n",
       "      <td>29,297.91</td>\n",
       "      <td>6.00</td>\n",
       "      <td>19.00</td>\n",
       "      <td>20,800.00</td>\n",
       "      <td>NaN</td>\n",
       "      <td>0.00</td>\n",
       "      <td>1970</td>\n",
       "    </tr>\n",
       "    <tr>\n",
       "      <th>3</th>\n",
       "      <td>16428</td>\n",
       "      <td>saving</td>\n",
       "      <td>M</td>\n",
       "      <td>44</td>\n",
       "      <td>233</td>\n",
       "      <td>20,936.00</td>\n",
       "      <td>nan</td>\n",
       "      <td>2,094.00</td>\n",
       "      <td>nan</td>\n",
       "      <td>11,778.50</td>\n",
       "      <td>nan</td>\n",
       "      <td>9.00</td>\n",
       "      <td>6.00</td>\n",
       "      <td>6.00</td>\n",
       "      <td>nan</td>\n",
       "      <td>nan</td>\n",
       "      <td>nan</td>\n",
       "      <td>600,000.00</td>\n",
       "      <td>nan</td>\n",
       "      <td>nan</td>\n",
       "      <td>nan</td>\n",
       "      <td>nan</td>\n",
       "      <td>nan</td>\n",
       "      <td>132,442.00</td>\n",
       "      <td>nan</td>\n",
       "      <td>nan</td>\n",
       "      <td>1,981.07</td>\n",
       "      <td>2,294.00</td>\n",
       "      <td>2.00</td>\n",
       "      <td>1.00</td>\n",
       "      <td>2,000.00</td>\n",
       "      <td>19,361.24</td>\n",
       "      <td>19,529.00</td>\n",
       "      <td>1.00</td>\n",
       "      <td>1.00</td>\n",
       "      <td>19,300.00</td>\n",
       "      <td>5,426.55</td>\n",
       "      <td>7,544.00</td>\n",
       "      <td>3.00</td>\n",
       "      <td>1.00</td>\n",
       "      <td>5,300.00</td>\n",
       "      <td>NaN</td>\n",
       "      <td>1,238.18</td>\n",
       "      <td>21579</td>\n",
       "    </tr>\n",
       "    <tr>\n",
       "      <th>4</th>\n",
       "      <td>18721</td>\n",
       "      <td>saving</td>\n",
       "      <td>F</td>\n",
       "      <td>35</td>\n",
       "      <td>324</td>\n",
       "      <td>1,183.83</td>\n",
       "      <td>nan</td>\n",
       "      <td>3,656.29</td>\n",
       "      <td>nan</td>\n",
       "      <td>945.00</td>\n",
       "      <td>nan</td>\n",
       "      <td>2.00</td>\n",
       "      <td>7.00</td>\n",
       "      <td>9.00</td>\n",
       "      <td>nan</td>\n",
       "      <td>nan</td>\n",
       "      <td>nan</td>\n",
       "      <td>100,000.00</td>\n",
       "      <td>nan</td>\n",
       "      <td>nan</td>\n",
       "      <td>nan</td>\n",
       "      <td>nan</td>\n",
       "      <td>nan</td>\n",
       "      <td>nan</td>\n",
       "      <td>nan</td>\n",
       "      <td>nan</td>\n",
       "      <td>6,462.00</td>\n",
       "      <td>10,271.00</td>\n",
       "      <td>6.00</td>\n",
       "      <td>1.00</td>\n",
       "      <td>10,000.00</td>\n",
       "      <td>7,461.00</td>\n",
       "      <td>3,194.00</td>\n",
       "      <td>2.00</td>\n",
       "      <td>3.00</td>\n",
       "      <td>3,000.00</td>\n",
       "      <td>26,178.05</td>\n",
       "      <td>53,483.00</td>\n",
       "      <td>4.00</td>\n",
       "      <td>4.00</td>\n",
       "      <td>45,000.00</td>\n",
       "      <td>NaN</td>\n",
       "      <td>0.00</td>\n",
       "      <td>1814</td>\n",
       "    </tr>\n",
       "  </tbody>\n",
       "</table>\n",
       "</div>"
      ],
      "text/plain": [
       "      id account_type gender  age  region_code  cc_cons_apr  dc_cons_apr  \\\n",
       "0  23334       saving      M   63          305     7,695.00          nan   \n",
       "1  20329      current      M   33          326    52,702.00       988.72   \n",
       "2  17679      current      M   44          264    10,800.49     3,215.52   \n",
       "3  16428       saving      M   44          233    20,936.00          nan   \n",
       "4  18721       saving      F   35          324     1,183.83          nan   \n",
       "\n",
       "   cc_cons_may  dc_cons_may  cc_cons_jun  dc_cons_jun  cc_count_apr  \\\n",
       "0       479.00          nan       622.00          nan          2.00   \n",
       "1    29,873.00          nan     1,087.00     2,806.24         11.00   \n",
       "2    21,660.00     1,607.00     1,168.00       355.00          6.00   \n",
       "3     2,094.00          nan    11,778.50          nan          9.00   \n",
       "4     3,656.29          nan       945.00          nan          2.00   \n",
       "\n",
       "   cc_count_may  cc_count_jun  dc_count_apr  dc_count_may  dc_count_jun  \\\n",
       "0          1.00          3.00           nan           nan           nan   \n",
       "1         14.00         11.00          1.00           nan          6.00   \n",
       "2          9.00          6.00          3.00          2.00         14.00   \n",
       "3          6.00          6.00           nan           nan           nan   \n",
       "4          7.00          9.00           nan           nan           nan   \n",
       "\n",
       "    card_lim  personal_loan_active  vehicle_loan_active  personal_loan_closed  \\\n",
       "0 150,000.00                   nan                  nan                   nan   \n",
       "1 176,000.00                   nan                  nan                  1.00   \n",
       "2  65,000.00                   nan                  nan                   nan   \n",
       "3 600,000.00                   nan                  nan                   nan   \n",
       "4 100,000.00                   nan                  nan                   nan   \n",
       "\n",
       "   vehicle_loan_closed  investment_1  investment_2  investment_3  \\\n",
       "0                  nan           nan    118,845.20     50,000.00   \n",
       "1                  nan           nan           nan           nan   \n",
       "2                  nan           nan           nan           nan   \n",
       "3                  nan           nan    132,442.00           nan   \n",
       "4                  nan           nan           nan           nan   \n",
       "\n",
       "   investment_4  debit_amount_apr  credit_amount_apr  debit_count_apr  \\\n",
       "0           nan         51,205.47          50,259.00             3.00   \n",
       "1           nan        159,050.76         169,812.00            20.00   \n",
       "2           nan         51,484.55          38,942.00            16.00   \n",
       "3           nan          1,981.07           2,294.00             2.00   \n",
       "4           nan          6,462.00          10,271.00             6.00   \n",
       "\n",
       "   credit_count_apr  max_credit_amount_apr  debit_amount_may  \\\n",
       "0              1.00              50,000.00         24,740.22   \n",
       "1              9.00              70,000.00        103,102.85   \n",
       "2              4.00              11,700.00         15,283.00   \n",
       "3              1.00               2,000.00         19,361.24   \n",
       "4              1.00              10,000.00          7,461.00   \n",
       "\n",
       "   credit_amount_may  credit_count_may  debit_count_may  \\\n",
       "0         114,252.00              3.00             2.00   \n",
       "1         174,606.00              6.00            10.00   \n",
       "2          23,051.00              2.00             7.00   \n",
       "3          19,529.00              1.00             1.00   \n",
       "4           3,194.00              2.00             3.00   \n",
       "\n",
       "   max_credit_amount_may  debit_amount_jun  credit_amount_jun  \\\n",
       "0              45,000.00         20,215.85           1,279.37   \n",
       "1             150,000.00        122,037.66          55,390.00   \n",
       "2              13,800.00         46,827.00          29,297.91   \n",
       "3              19,300.00          5,426.55           7,544.00   \n",
       "4               3,000.00         26,178.05          53,483.00   \n",
       "\n",
       "   credit_count_jun  debit_count_jun  max_credit_amount_jun loan_enq  \\\n",
       "0              7.00             3.00                 470.00      NaN   \n",
       "1              8.00            19.00              27,000.00      NaN   \n",
       "2              6.00            19.00              20,800.00      NaN   \n",
       "3              3.00             1.00               5,300.00      NaN   \n",
       "4              4.00             4.00              45,000.00      NaN   \n",
       "\n",
       "   emi_active  cc_cons  \n",
       "0        0.00      435  \n",
       "1    4,963.33     1921  \n",
       "2        0.00     1970  \n",
       "3    1,238.18    21579  \n",
       "4        0.00     1814  "
      ]
     },
     "execution_count": 190,
     "metadata": {},
     "output_type": "execute_result"
    }
   ],
   "source": [
    "df.head()"
   ]
  },
  {
   "cell_type": "code",
   "execution_count": 191,
   "metadata": {
    "collapsed": true
   },
   "outputs": [],
   "source": [
    "# Age binning\n",
    "## Identified that the least age of customer is 22 and highest is 224\n",
    "### So creating age bins based on their life stages"
   ]
  },
  {
   "cell_type": "code",
   "execution_count": 192,
   "metadata": {},
   "outputs": [
    {
     "name": "stdout",
     "output_type": "stream",
     "text": [
      "===============================================================\n",
      "         investment_1  investment_2  investment_3  investment_4\n",
      "age_bin                                                        \n",
      "22-30             150           348           193            87\n",
      "30-45             943          1584           875           254\n",
      "45-60             285           335           233            57\n",
      "60+                47            70            31             7\n",
      "===============================================================\n",
      "         investment_1  investment_2  investment_3  investment_4\n",
      "age_bin                                                        \n",
      "22-30    1,192,833.98    113,246.11     18,860.20      2,728.14\n",
      "30-45      745,955.55    163,341.05     33,410.06      5,181.23\n",
      "45-60      841,865.57    261,608.70     74,561.30      6,773.35\n",
      "60+        743,036.72    383,644.21     87,447.35     11,456.17\n",
      "===============================================================\n"
     ]
    }
   ],
   "source": [
    "bins = [22, 30, 45, 60,224]\n",
    "labels = [\"22-30\",\"30-45\",\"45-60\",\"60+\"]\n",
    "df[\"age_bin\"] = pd.cut(df['age'], bins=bins, labels=labels)\n",
    "print(\"===============================================================\")\n",
    "print(df[[\"age_bin\",\"investment_1\",\"investment_2\",\"investment_3\",\"investment_4\"]].groupby([\"age_bin\"]).count())\n",
    "print(\"===============================================================\")\n",
    "print(df[[\"age_bin\",\"investment_1\",\"investment_2\",\"investment_3\",\"investment_4\"]].groupby([\"age_bin\"]).mean())\n",
    "print(\"===============================================================\")"
   ]
  },
  {
   "cell_type": "code",
   "execution_count": 195,
   "metadata": {
    "collapsed": true
   },
   "outputs": [],
   "source": [
    "## Customers whose age is between 30 to 45 are doing more investments compartively with other age groups\n",
    "## As per the above observations I think investment_4 is kind of medical insurances and age group 60+ are taking high premiums\n",
    "## Though the customers beween age 22 to 30 very less customers are investing into DEMAT account, but on an average they are spending very huge amount on Demat account\n",
    "## Customers with age 60+ are investing on an average 383,644 rupess (which is high among the other age groups) into Fixed deposites\n",
    "## Also 45-60 and 60+ customers are spending more amount(on an average per customer) on Life insurances\n",
    "## Based on the above observations,\n",
    "## DEMAT account can be recommended more to age group 22-30 and 30-45 based on Volume and Count\n",
    "## Fixed Deposits can be recommended more to 30-45 and 60+ based on Count and Volume\n",
    "## Life Insurances can be recommended more to  30-45 and 60+ age groups based on count and volume\n",
    "## General Insurances can be recommended more to 30-45 an 60+ age groups based on count and volume"
   ]
  },
  {
   "cell_type": "code",
   "execution_count": null,
   "metadata": {
    "collapsed": true
   },
   "outputs": [],
   "source": []
  },
  {
   "cell_type": "code",
   "execution_count": 196,
   "metadata": {
    "collapsed": true
   },
   "outputs": [],
   "source": [
    "# There are missing values in personal_loan_active, personal_loan_closed, vehicle_loan_active and vehicle_loan_closed columns. \n",
    "# I made an assumption that these missing values belongs to 0"
   ]
  },
  {
   "cell_type": "code",
   "execution_count": 201,
   "metadata": {},
   "outputs": [
    {
     "data": {
      "text/html": [
       "<div>\n",
       "<style>\n",
       "    .dataframe thead tr:only-child th {\n",
       "        text-align: right;\n",
       "    }\n",
       "\n",
       "    .dataframe thead th {\n",
       "        text-align: left;\n",
       "    }\n",
       "\n",
       "    .dataframe tbody tr th {\n",
       "        vertical-align: top;\n",
       "    }\n",
       "</style>\n",
       "<table border=\"1\" class=\"dataframe\">\n",
       "  <thead>\n",
       "    <tr style=\"text-align: right;\">\n",
       "      <th></th>\n",
       "      <th></th>\n",
       "      <th></th>\n",
       "      <th></th>\n",
       "      <th>investment_1</th>\n",
       "      <th>investment_2</th>\n",
       "      <th>investment_3</th>\n",
       "      <th>investment_4</th>\n",
       "    </tr>\n",
       "    <tr>\n",
       "      <th>personal_loan_active</th>\n",
       "      <th>personal_loan_closed</th>\n",
       "      <th>vehicle_loan_active</th>\n",
       "      <th>vehicle_loan_closed</th>\n",
       "      <th></th>\n",
       "      <th></th>\n",
       "      <th></th>\n",
       "      <th></th>\n",
       "    </tr>\n",
       "  </thead>\n",
       "  <tbody>\n",
       "    <tr>\n",
       "      <th rowspan=\"8\" valign=\"top\">0.00</th>\n",
       "      <th rowspan=\"4\" valign=\"top\">0.00</th>\n",
       "      <th rowspan=\"2\" valign=\"top\">0.00</th>\n",
       "      <th>0.00</th>\n",
       "      <td>1102</td>\n",
       "      <td>1928</td>\n",
       "      <td>998</td>\n",
       "      <td>313</td>\n",
       "    </tr>\n",
       "    <tr>\n",
       "      <th>1.00</th>\n",
       "      <td>87</td>\n",
       "      <td>121</td>\n",
       "      <td>87</td>\n",
       "      <td>12</td>\n",
       "    </tr>\n",
       "    <tr>\n",
       "      <th rowspan=\"2\" valign=\"top\">1.00</th>\n",
       "      <th>0.00</th>\n",
       "      <td>11</td>\n",
       "      <td>22</td>\n",
       "      <td>23</td>\n",
       "      <td>9</td>\n",
       "    </tr>\n",
       "    <tr>\n",
       "      <th>1.00</th>\n",
       "      <td>0</td>\n",
       "      <td>1</td>\n",
       "      <td>2</td>\n",
       "      <td>2</td>\n",
       "    </tr>\n",
       "    <tr>\n",
       "      <th rowspan=\"4\" valign=\"top\">1.00</th>\n",
       "      <th rowspan=\"2\" valign=\"top\">0.00</th>\n",
       "      <th>0.00</th>\n",
       "      <td>95</td>\n",
       "      <td>129</td>\n",
       "      <td>77</td>\n",
       "      <td>21</td>\n",
       "    </tr>\n",
       "    <tr>\n",
       "      <th>1.00</th>\n",
       "      <td>16</td>\n",
       "      <td>23</td>\n",
       "      <td>18</td>\n",
       "      <td>5</td>\n",
       "    </tr>\n",
       "    <tr>\n",
       "      <th rowspan=\"2\" valign=\"top\">1.00</th>\n",
       "      <th>0.00</th>\n",
       "      <td>0</td>\n",
       "      <td>0</td>\n",
       "      <td>3</td>\n",
       "      <td>1</td>\n",
       "    </tr>\n",
       "    <tr>\n",
       "      <th>1.00</th>\n",
       "      <td>0</td>\n",
       "      <td>0</td>\n",
       "      <td>0</td>\n",
       "      <td>0</td>\n",
       "    </tr>\n",
       "    <tr>\n",
       "      <th rowspan=\"8\" valign=\"top\">1.00</th>\n",
       "      <th rowspan=\"4\" valign=\"top\">0.00</th>\n",
       "      <th rowspan=\"2\" valign=\"top\">0.00</th>\n",
       "      <th>0.00</th>\n",
       "      <td>59</td>\n",
       "      <td>59</td>\n",
       "      <td>72</td>\n",
       "      <td>23</td>\n",
       "    </tr>\n",
       "    <tr>\n",
       "      <th>1.00</th>\n",
       "      <td>12</td>\n",
       "      <td>2</td>\n",
       "      <td>4</td>\n",
       "      <td>5</td>\n",
       "    </tr>\n",
       "    <tr>\n",
       "      <th rowspan=\"2\" valign=\"top\">1.00</th>\n",
       "      <th>0.00</th>\n",
       "      <td>2</td>\n",
       "      <td>3</td>\n",
       "      <td>3</td>\n",
       "      <td>1</td>\n",
       "    </tr>\n",
       "    <tr>\n",
       "      <th>1.00</th>\n",
       "      <td>0</td>\n",
       "      <td>0</td>\n",
       "      <td>1</td>\n",
       "      <td>0</td>\n",
       "    </tr>\n",
       "    <tr>\n",
       "      <th rowspan=\"4\" valign=\"top\">1.00</th>\n",
       "      <th rowspan=\"2\" valign=\"top\">0.00</th>\n",
       "      <th>0.00</th>\n",
       "      <td>36</td>\n",
       "      <td>35</td>\n",
       "      <td>36</td>\n",
       "      <td>11</td>\n",
       "    </tr>\n",
       "    <tr>\n",
       "      <th>1.00</th>\n",
       "      <td>6</td>\n",
       "      <td>13</td>\n",
       "      <td>7</td>\n",
       "      <td>2</td>\n",
       "    </tr>\n",
       "    <tr>\n",
       "      <th rowspan=\"2\" valign=\"top\">1.00</th>\n",
       "      <th>0.00</th>\n",
       "      <td>0</td>\n",
       "      <td>2</td>\n",
       "      <td>1</td>\n",
       "      <td>1</td>\n",
       "    </tr>\n",
       "    <tr>\n",
       "      <th>1.00</th>\n",
       "      <td>0</td>\n",
       "      <td>0</td>\n",
       "      <td>0</td>\n",
       "      <td>0</td>\n",
       "    </tr>\n",
       "  </tbody>\n",
       "</table>\n",
       "</div>"
      ],
      "text/plain": [
       "                                                                                   investment_1  \\\n",
       "personal_loan_active personal_loan_closed vehicle_loan_active vehicle_loan_closed                 \n",
       "0.00                 0.00                 0.00                0.00                         1102   \n",
       "                                                              1.00                           87   \n",
       "                                          1.00                0.00                           11   \n",
       "                                                              1.00                            0   \n",
       "                     1.00                 0.00                0.00                           95   \n",
       "                                                              1.00                           16   \n",
       "                                          1.00                0.00                            0   \n",
       "                                                              1.00                            0   \n",
       "1.00                 0.00                 0.00                0.00                           59   \n",
       "                                                              1.00                           12   \n",
       "                                          1.00                0.00                            2   \n",
       "                                                              1.00                            0   \n",
       "                     1.00                 0.00                0.00                           36   \n",
       "                                                              1.00                            6   \n",
       "                                          1.00                0.00                            0   \n",
       "                                                              1.00                            0   \n",
       "\n",
       "                                                                                   investment_2  \\\n",
       "personal_loan_active personal_loan_closed vehicle_loan_active vehicle_loan_closed                 \n",
       "0.00                 0.00                 0.00                0.00                         1928   \n",
       "                                                              1.00                          121   \n",
       "                                          1.00                0.00                           22   \n",
       "                                                              1.00                            1   \n",
       "                     1.00                 0.00                0.00                          129   \n",
       "                                                              1.00                           23   \n",
       "                                          1.00                0.00                            0   \n",
       "                                                              1.00                            0   \n",
       "1.00                 0.00                 0.00                0.00                           59   \n",
       "                                                              1.00                            2   \n",
       "                                          1.00                0.00                            3   \n",
       "                                                              1.00                            0   \n",
       "                     1.00                 0.00                0.00                           35   \n",
       "                                                              1.00                           13   \n",
       "                                          1.00                0.00                            2   \n",
       "                                                              1.00                            0   \n",
       "\n",
       "                                                                                   investment_3  \\\n",
       "personal_loan_active personal_loan_closed vehicle_loan_active vehicle_loan_closed                 \n",
       "0.00                 0.00                 0.00                0.00                          998   \n",
       "                                                              1.00                           87   \n",
       "                                          1.00                0.00                           23   \n",
       "                                                              1.00                            2   \n",
       "                     1.00                 0.00                0.00                           77   \n",
       "                                                              1.00                           18   \n",
       "                                          1.00                0.00                            3   \n",
       "                                                              1.00                            0   \n",
       "1.00                 0.00                 0.00                0.00                           72   \n",
       "                                                              1.00                            4   \n",
       "                                          1.00                0.00                            3   \n",
       "                                                              1.00                            1   \n",
       "                     1.00                 0.00                0.00                           36   \n",
       "                                                              1.00                            7   \n",
       "                                          1.00                0.00                            1   \n",
       "                                                              1.00                            0   \n",
       "\n",
       "                                                                                   investment_4  \n",
       "personal_loan_active personal_loan_closed vehicle_loan_active vehicle_loan_closed                \n",
       "0.00                 0.00                 0.00                0.00                          313  \n",
       "                                                              1.00                           12  \n",
       "                                          1.00                0.00                            9  \n",
       "                                                              1.00                            2  \n",
       "                     1.00                 0.00                0.00                           21  \n",
       "                                                              1.00                            5  \n",
       "                                          1.00                0.00                            1  \n",
       "                                                              1.00                            0  \n",
       "1.00                 0.00                 0.00                0.00                           23  \n",
       "                                                              1.00                            5  \n",
       "                                          1.00                0.00                            1  \n",
       "                                                              1.00                            0  \n",
       "                     1.00                 0.00                0.00                           11  \n",
       "                                                              1.00                            2  \n",
       "                                          1.00                0.00                            1  \n",
       "                                                              1.00                            0  "
      ]
     },
     "execution_count": 201,
     "metadata": {},
     "output_type": "execute_result"
    }
   ],
   "source": [
    "df = pd.read_csv('train.csv')\n",
    "df[\"personal_loan_active\"].fillna(0,inplace=True)\n",
    "df[\"personal_loan_closed\"].fillna(0,inplace=True)\n",
    "df[\"vehicle_loan_active\"].fillna(0,inplace=True)\n",
    "df[\"vehicle_loan_closed\"].fillna(0,inplace=True)\n",
    "df[[\"personal_loan_active\",\"personal_loan_closed\",\"vehicle_loan_active\",\"vehicle_loan_closed\",\"investment_1\",\"investment_2\",\"investment_3\",\"investment_4\"]].groupby([\"personal_loan_active\",\"personal_loan_closed\",\"vehicle_loan_active\",\"vehicle_loan_closed\"]).count()"
   ]
  },
  {
   "cell_type": "code",
   "execution_count": 241,
   "metadata": {
    "collapsed": true
   },
   "outputs": [],
   "source": [
    "# Customers having no personal loan currently and in the past are very much intersted in investments \n",
    "# Customers having personal loan currently and also in the past are not investing!! (Zero Investments)"
   ]
  },
  {
   "cell_type": "markdown",
   "metadata": {},
   "source": [
    "#### So we can recommend investments like DEMAT account, FDs, Life Insurances and other General insurances to those customers who has no history of loans"
   ]
  },
  {
   "cell_type": "code",
   "execution_count": 203,
   "metadata": {},
   "outputs": [
    {
     "data": {
      "text/html": [
       "<div>\n",
       "<style>\n",
       "    .dataframe thead tr:only-child th {\n",
       "        text-align: right;\n",
       "    }\n",
       "\n",
       "    .dataframe thead th {\n",
       "        text-align: left;\n",
       "    }\n",
       "\n",
       "    .dataframe tbody tr th {\n",
       "        vertical-align: top;\n",
       "    }\n",
       "</style>\n",
       "<table border=\"1\" class=\"dataframe\">\n",
       "  <thead>\n",
       "    <tr style=\"text-align: right;\">\n",
       "      <th></th>\n",
       "      <th></th>\n",
       "      <th>investment_1</th>\n",
       "      <th>investment_2</th>\n",
       "      <th>investment_3</th>\n",
       "      <th>investment_4</th>\n",
       "    </tr>\n",
       "    <tr>\n",
       "      <th>vehicle_loan_active</th>\n",
       "      <th>vehicle_loan_closed</th>\n",
       "      <th></th>\n",
       "      <th></th>\n",
       "      <th></th>\n",
       "      <th></th>\n",
       "    </tr>\n",
       "  </thead>\n",
       "  <tbody>\n",
       "    <tr>\n",
       "      <th rowspan=\"2\" valign=\"top\">0.00</th>\n",
       "      <th>0.00</th>\n",
       "      <td>1292</td>\n",
       "      <td>2151</td>\n",
       "      <td>1183</td>\n",
       "      <td>368</td>\n",
       "    </tr>\n",
       "    <tr>\n",
       "      <th>1.00</th>\n",
       "      <td>121</td>\n",
       "      <td>159</td>\n",
       "      <td>116</td>\n",
       "      <td>24</td>\n",
       "    </tr>\n",
       "    <tr>\n",
       "      <th rowspan=\"2\" valign=\"top\">1.00</th>\n",
       "      <th>0.00</th>\n",
       "      <td>13</td>\n",
       "      <td>27</td>\n",
       "      <td>30</td>\n",
       "      <td>12</td>\n",
       "    </tr>\n",
       "    <tr>\n",
       "      <th>1.00</th>\n",
       "      <td>0</td>\n",
       "      <td>1</td>\n",
       "      <td>3</td>\n",
       "      <td>2</td>\n",
       "    </tr>\n",
       "  </tbody>\n",
       "</table>\n",
       "</div>"
      ],
      "text/plain": [
       "                                         investment_1  investment_2  \\\n",
       "vehicle_loan_active vehicle_loan_closed                               \n",
       "0.00                0.00                         1292          2151   \n",
       "                    1.00                          121           159   \n",
       "1.00                0.00                           13            27   \n",
       "                    1.00                            0             1   \n",
       "\n",
       "                                         investment_3  investment_4  \n",
       "vehicle_loan_active vehicle_loan_closed                              \n",
       "0.00                0.00                         1183           368  \n",
       "                    1.00                          116            24  \n",
       "1.00                0.00                           30            12  \n",
       "                    1.00                            3             2  "
      ]
     },
     "execution_count": 203,
     "metadata": {},
     "output_type": "execute_result"
    }
   ],
   "source": [
    "df = pd.read_csv('train.csv')\n",
    "df[\"vehicle_loan_active\"].fillna(0,inplace=True)\n",
    "df[\"vehicle_loan_closed\"].fillna(0,inplace=True)\n",
    "df[[\"vehicle_loan_active\",\"vehicle_loan_closed\",\"investment_1\",\"investment_2\",\"investment_3\",\"investment_4\"]].groupby([\"vehicle_loan_active\",\"vehicle_loan_closed\"]).count()"
   ]
  },
  {
   "cell_type": "code",
   "execution_count": null,
   "metadata": {
    "collapsed": true
   },
   "outputs": [],
   "source": [
    "# To Add more evidence to above stated points it is clearly observed with Vehicle loan active VS vehicle loan closed"
   ]
  },
  {
   "cell_type": "code",
   "execution_count": 199,
   "metadata": {},
   "outputs": [
    {
     "data": {
      "text/html": [
       "<div>\n",
       "<style>\n",
       "    .dataframe thead tr:only-child th {\n",
       "        text-align: right;\n",
       "    }\n",
       "\n",
       "    .dataframe thead th {\n",
       "        text-align: left;\n",
       "    }\n",
       "\n",
       "    .dataframe tbody tr th {\n",
       "        vertical-align: top;\n",
       "    }\n",
       "</style>\n",
       "<table border=\"1\" class=\"dataframe\">\n",
       "  <thead>\n",
       "    <tr style=\"text-align: right;\">\n",
       "      <th></th>\n",
       "      <th></th>\n",
       "      <th>investment_1</th>\n",
       "      <th>investment_2</th>\n",
       "      <th>investment_3</th>\n",
       "      <th>investment_4</th>\n",
       "    </tr>\n",
       "    <tr>\n",
       "      <th>personal_loan_active</th>\n",
       "      <th>personal_loan_closed</th>\n",
       "      <th></th>\n",
       "      <th></th>\n",
       "      <th></th>\n",
       "      <th></th>\n",
       "    </tr>\n",
       "  </thead>\n",
       "  <tbody>\n",
       "    <tr>\n",
       "      <th rowspan=\"2\" valign=\"top\">0.00</th>\n",
       "      <th>0.00</th>\n",
       "      <td>1200</td>\n",
       "      <td>2072</td>\n",
       "      <td>1110</td>\n",
       "      <td>336</td>\n",
       "    </tr>\n",
       "    <tr>\n",
       "      <th>1.00</th>\n",
       "      <td>111</td>\n",
       "      <td>152</td>\n",
       "      <td>98</td>\n",
       "      <td>27</td>\n",
       "    </tr>\n",
       "    <tr>\n",
       "      <th rowspan=\"2\" valign=\"top\">1.00</th>\n",
       "      <th>0.00</th>\n",
       "      <td>73</td>\n",
       "      <td>64</td>\n",
       "      <td>80</td>\n",
       "      <td>29</td>\n",
       "    </tr>\n",
       "    <tr>\n",
       "      <th>1.00</th>\n",
       "      <td>42</td>\n",
       "      <td>50</td>\n",
       "      <td>44</td>\n",
       "      <td>14</td>\n",
       "    </tr>\n",
       "  </tbody>\n",
       "</table>\n",
       "</div>"
      ],
      "text/plain": [
       "                                           investment_1  investment_2  \\\n",
       "personal_loan_active personal_loan_closed                               \n",
       "0.00                 0.00                          1200          2072   \n",
       "                     1.00                           111           152   \n",
       "1.00                 0.00                            73            64   \n",
       "                     1.00                            42            50   \n",
       "\n",
       "                                           investment_3  investment_4  \n",
       "personal_loan_active personal_loan_closed                              \n",
       "0.00                 0.00                          1110           336  \n",
       "                     1.00                            98            27  \n",
       "1.00                 0.00                            80            29  \n",
       "                     1.00                            44            14  "
      ]
     },
     "execution_count": 199,
     "metadata": {},
     "output_type": "execute_result"
    }
   ],
   "source": [
    "df = pd.read_csv('train.csv')\n",
    "df[\"personal_loan_active\"].fillna(0,inplace=True)\n",
    "df[\"personal_loan_closed\"].fillna(0,inplace=True)\n",
    "df[[\"personal_loan_active\",\"personal_loan_closed\",\"investment_1\",\"investment_2\",\"investment_3\",\"investment_4\"]].groupby([\"personal_loan_active\",\"personal_loan_closed\"]).count()"
   ]
  },
  {
   "cell_type": "code",
   "execution_count": 32,
   "metadata": {},
   "outputs": [
    {
     "data": {
      "text/html": [
       "<div>\n",
       "<style>\n",
       "    .dataframe thead tr:only-child th {\n",
       "        text-align: right;\n",
       "    }\n",
       "\n",
       "    .dataframe thead th {\n",
       "        text-align: left;\n",
       "    }\n",
       "\n",
       "    .dataframe tbody tr th {\n",
       "        vertical-align: top;\n",
       "    }\n",
       "</style>\n",
       "<table border=\"1\" class=\"dataframe\">\n",
       "  <thead>\n",
       "    <tr style=\"text-align: right;\">\n",
       "      <th></th>\n",
       "      <th></th>\n",
       "      <th>investment_1</th>\n",
       "      <th>investment_2</th>\n",
       "      <th>investment_3</th>\n",
       "      <th>investment_4</th>\n",
       "    </tr>\n",
       "    <tr>\n",
       "      <th>personal_loan_active</th>\n",
       "      <th>personal_loan_closed</th>\n",
       "      <th></th>\n",
       "      <th></th>\n",
       "      <th></th>\n",
       "      <th></th>\n",
       "    </tr>\n",
       "  </thead>\n",
       "  <tbody>\n",
       "    <tr>\n",
       "      <th rowspan=\"2\" valign=\"top\">0.00</th>\n",
       "      <th>0.00</th>\n",
       "      <td>828,148.14</td>\n",
       "      <td>174,391.55</td>\n",
       "      <td>40,785.44</td>\n",
       "      <td>4,593.04</td>\n",
       "    </tr>\n",
       "    <tr>\n",
       "      <th>1.00</th>\n",
       "      <td>536,169.25</td>\n",
       "      <td>177,610.52</td>\n",
       "      <td>36,493.20</td>\n",
       "      <td>6,147.85</td>\n",
       "    </tr>\n",
       "    <tr>\n",
       "      <th rowspan=\"2\" valign=\"top\">1.00</th>\n",
       "      <th>0.00</th>\n",
       "      <td>546,990.98</td>\n",
       "      <td>138,498.64</td>\n",
       "      <td>34,713.57</td>\n",
       "      <td>6,598.59</td>\n",
       "    </tr>\n",
       "    <tr>\n",
       "      <th>1.00</th>\n",
       "      <td>1,523,641.55</td>\n",
       "      <td>311,287.65</td>\n",
       "      <td>30,277.48</td>\n",
       "      <td>8,448.50</td>\n",
       "    </tr>\n",
       "  </tbody>\n",
       "</table>\n",
       "</div>"
      ],
      "text/plain": [
       "                                           investment_1  investment_2  \\\n",
       "personal_loan_active personal_loan_closed                               \n",
       "0.00                 0.00                    828,148.14    174,391.55   \n",
       "                     1.00                    536,169.25    177,610.52   \n",
       "1.00                 0.00                    546,990.98    138,498.64   \n",
       "                     1.00                  1,523,641.55    311,287.65   \n",
       "\n",
       "                                           investment_3  investment_4  \n",
       "personal_loan_active personal_loan_closed                              \n",
       "0.00                 0.00                     40,785.44      4,593.04  \n",
       "                     1.00                     36,493.20      6,147.85  \n",
       "1.00                 0.00                     34,713.57      6,598.59  \n",
       "                     1.00                     30,277.48      8,448.50  "
      ]
     },
     "execution_count": 32,
     "metadata": {},
     "output_type": "execute_result"
    }
   ],
   "source": [
    "df = pd.read_csv('train.csv')\n",
    "df[\"personal_loan_active\"].fillna(0,inplace=True)\n",
    "df[\"personal_loan_closed\"].fillna(0,inplace=True)\n",
    "df[[\"personal_loan_active\",\"personal_loan_closed\",\"investment_1\",\"investment_2\",\"investment_3\",\"investment_4\"]].groupby([\"personal_loan_active\",\"personal_loan_closed\"]).mean()"
   ]
  },
  {
   "cell_type": "code",
   "execution_count": null,
   "metadata": {
    "collapsed": true
   },
   "outputs": [],
   "source": [
    "# One interesting fact I observed is that though the customers with personal_loan_active and personal_loan_closed history very less but those rare customers are spending huge amount in investments except Life Insurance"
   ]
  },
  {
   "cell_type": "markdown",
   "metadata": {},
   "source": [
    "#### Up Sell - As I observed above only few customers are investing hefty amounts so we could recommand the top-ups to those customes"
   ]
  },
  {
   "cell_type": "code",
   "execution_count": null,
   "metadata": {
    "collapsed": true
   },
   "outputs": [],
   "source": []
  },
  {
   "cell_type": "code",
   "execution_count": 205,
   "metadata": {},
   "outputs": [
    {
     "data": {
      "text/html": [
       "<div>\n",
       "<style>\n",
       "    .dataframe thead tr:only-child th {\n",
       "        text-align: right;\n",
       "    }\n",
       "\n",
       "    .dataframe thead th {\n",
       "        text-align: left;\n",
       "    }\n",
       "\n",
       "    .dataframe tbody tr th {\n",
       "        vertical-align: top;\n",
       "    }\n",
       "</style>\n",
       "<table border=\"1\" class=\"dataframe\">\n",
       "  <thead>\n",
       "    <tr style=\"text-align: right;\">\n",
       "      <th></th>\n",
       "      <th>investment_1</th>\n",
       "      <th>investment_2</th>\n",
       "      <th>investment_3</th>\n",
       "      <th>investment_4</th>\n",
       "    </tr>\n",
       "    <tr>\n",
       "      <th>loan_enq</th>\n",
       "      <th></th>\n",
       "      <th></th>\n",
       "      <th></th>\n",
       "      <th></th>\n",
       "    </tr>\n",
       "  </thead>\n",
       "  <tbody>\n",
       "    <tr>\n",
       "      <th>N</th>\n",
       "      <td>1408</td>\n",
       "      <td>2312</td>\n",
       "      <td>1303</td>\n",
       "      <td>391</td>\n",
       "    </tr>\n",
       "    <tr>\n",
       "      <th>Y</th>\n",
       "      <td>18</td>\n",
       "      <td>26</td>\n",
       "      <td>29</td>\n",
       "      <td>15</td>\n",
       "    </tr>\n",
       "  </tbody>\n",
       "</table>\n",
       "</div>"
      ],
      "text/plain": [
       "          investment_1  investment_2  investment_3  investment_4\n",
       "loan_enq                                                        \n",
       "N                 1408          2312          1303           391\n",
       "Y                   18            26            29            15"
      ]
     },
     "execution_count": 205,
     "metadata": {},
     "output_type": "execute_result"
    }
   ],
   "source": [
    "df = pd.read_csv('train.csv')\n",
    "df[\"loan_enq\"].fillna(\"N\",inplace=True)\n",
    "df[[\"loan_enq\",\"investment_1\",\"investment_2\",\"investment_3\",\"investment_4\"]].groupby([\"loan_enq\"]).count()\n",
    "#sns.countplot(df[[\"loan_enq\",\"investment_1\",\"investment_2\",\"investment_3\",\"investment_4\"]].groupby([\"loan_enq\"]).count())"
   ]
  },
  {
   "cell_type": "code",
   "execution_count": 206,
   "metadata": {
    "collapsed": true
   },
   "outputs": [],
   "source": [
    "# This is another clear evidence that customers who are interested in loans are not investing more into DEMAT, FDs, LICs and general insurances"
   ]
  },
  {
   "cell_type": "code",
   "execution_count": 207,
   "metadata": {},
   "outputs": [
    {
     "data": {
      "text/html": [
       "<div>\n",
       "<style>\n",
       "    .dataframe thead tr:only-child th {\n",
       "        text-align: right;\n",
       "    }\n",
       "\n",
       "    .dataframe thead th {\n",
       "        text-align: left;\n",
       "    }\n",
       "\n",
       "    .dataframe tbody tr th {\n",
       "        vertical-align: top;\n",
       "    }\n",
       "</style>\n",
       "<table border=\"1\" class=\"dataframe\">\n",
       "  <thead>\n",
       "    <tr style=\"text-align: right;\">\n",
       "      <th></th>\n",
       "      <th>cc_cons_apr</th>\n",
       "      <th>cc_cons_may</th>\n",
       "      <th>cc_cons_jun</th>\n",
       "    </tr>\n",
       "    <tr>\n",
       "      <th>personal_loan_closed</th>\n",
       "      <th></th>\n",
       "      <th></th>\n",
       "      <th></th>\n",
       "    </tr>\n",
       "  </thead>\n",
       "  <tbody>\n",
       "    <tr>\n",
       "      <th>0.00</th>\n",
       "      <td>16,196.69</td>\n",
       "      <td>14,055.37</td>\n",
       "      <td>8,830.66</td>\n",
       "    </tr>\n",
       "    <tr>\n",
       "      <th>1.00</th>\n",
       "      <td>21,492.69</td>\n",
       "      <td>18,114.18</td>\n",
       "      <td>11,113.35</td>\n",
       "    </tr>\n",
       "  </tbody>\n",
       "</table>\n",
       "</div>"
      ],
      "text/plain": [
       "                      cc_cons_apr  cc_cons_may  cc_cons_jun\n",
       "personal_loan_closed                                       \n",
       "0.00                    16,196.69    14,055.37     8,830.66\n",
       "1.00                    21,492.69    18,114.18    11,113.35"
      ]
     },
     "execution_count": 207,
     "metadata": {},
     "output_type": "execute_result"
    }
   ],
   "source": [
    "df = pd.read_csv('train.csv')\n",
    "df[\"personal_loan_active\"] = df[\"personal_loan_active\"].fillna(0)\n",
    "df[\"personal_loan_closed\"] = df[\"personal_loan_closed\"].fillna(0)\n",
    "df[[\"personal_loan_closed\",\"cc_cons_apr\",\"cc_cons_may\",\"cc_cons_jun\"]].groupby([\"personal_loan_closed\"]).mean()"
   ]
  },
  {
   "cell_type": "code",
   "execution_count": 63,
   "metadata": {},
   "outputs": [
    {
     "data": {
      "text/html": [
       "<div>\n",
       "<style>\n",
       "    .dataframe thead tr:only-child th {\n",
       "        text-align: right;\n",
       "    }\n",
       "\n",
       "    .dataframe thead th {\n",
       "        text-align: left;\n",
       "    }\n",
       "\n",
       "    .dataframe tbody tr th {\n",
       "        vertical-align: top;\n",
       "    }\n",
       "</style>\n",
       "<table border=\"1\" class=\"dataframe\">\n",
       "  <thead>\n",
       "    <tr style=\"text-align: right;\">\n",
       "      <th></th>\n",
       "      <th>dc_cons_apr</th>\n",
       "      <th>dc_cons_may</th>\n",
       "      <th>dc_cons_jun</th>\n",
       "    </tr>\n",
       "    <tr>\n",
       "      <th>personal_loan_closed</th>\n",
       "      <th></th>\n",
       "      <th></th>\n",
       "      <th></th>\n",
       "    </tr>\n",
       "  </thead>\n",
       "  <tbody>\n",
       "    <tr>\n",
       "      <th>0.00</th>\n",
       "      <td>5,688.02</td>\n",
       "      <td>5,591.74</td>\n",
       "      <td>4,623.59</td>\n",
       "    </tr>\n",
       "    <tr>\n",
       "      <th>1.00</th>\n",
       "      <td>6,316.02</td>\n",
       "      <td>6,226.71</td>\n",
       "      <td>5,273.97</td>\n",
       "    </tr>\n",
       "  </tbody>\n",
       "</table>\n",
       "</div>"
      ],
      "text/plain": [
       "                      dc_cons_apr  dc_cons_may  dc_cons_jun\n",
       "personal_loan_closed                                       \n",
       "0.00                     5,688.02     5,591.74     4,623.59\n",
       "1.00                     6,316.02     6,226.71     5,273.97"
      ]
     },
     "execution_count": 63,
     "metadata": {},
     "output_type": "execute_result"
    }
   ],
   "source": [
    "df[[\"personal_loan_closed\",\"dc_cons_apr\",\"dc_cons_may\",\"dc_cons_jun\"]].groupby([\"personal_loan_closed\"]).mean()"
   ]
  },
  {
   "cell_type": "code",
   "execution_count": 62,
   "metadata": {},
   "outputs": [
    {
     "data": {
      "text/html": [
       "<div>\n",
       "<style>\n",
       "    .dataframe thead tr:only-child th {\n",
       "        text-align: right;\n",
       "    }\n",
       "\n",
       "    .dataframe thead th {\n",
       "        text-align: left;\n",
       "    }\n",
       "\n",
       "    .dataframe tbody tr th {\n",
       "        vertical-align: top;\n",
       "    }\n",
       "</style>\n",
       "<table border=\"1\" class=\"dataframe\">\n",
       "  <thead>\n",
       "    <tr style=\"text-align: right;\">\n",
       "      <th></th>\n",
       "      <th>credit_amount_apr</th>\n",
       "      <th>credit_amount_may</th>\n",
       "      <th>credit_amount_jun</th>\n",
       "    </tr>\n",
       "    <tr>\n",
       "      <th>personal_loan_closed</th>\n",
       "      <th></th>\n",
       "      <th></th>\n",
       "      <th></th>\n",
       "    </tr>\n",
       "  </thead>\n",
       "  <tbody>\n",
       "    <tr>\n",
       "      <th>0.00</th>\n",
       "      <td>72,454.94</td>\n",
       "      <td>76,926.33</td>\n",
       "      <td>73,224.23</td>\n",
       "    </tr>\n",
       "    <tr>\n",
       "      <th>1.00</th>\n",
       "      <td>108,124.52</td>\n",
       "      <td>109,066.42</td>\n",
       "      <td>104,288.06</td>\n",
       "    </tr>\n",
       "  </tbody>\n",
       "</table>\n",
       "</div>"
      ],
      "text/plain": [
       "                      credit_amount_apr  credit_amount_may  credit_amount_jun\n",
       "personal_loan_closed                                                         \n",
       "0.00                          72,454.94          76,926.33          73,224.23\n",
       "1.00                         108,124.52         109,066.42         104,288.06"
      ]
     },
     "execution_count": 62,
     "metadata": {},
     "output_type": "execute_result"
    }
   ],
   "source": [
    "df[[\"personal_loan_closed\",\"credit_amount_apr\",\"credit_amount_may\",\"credit_amount_jun\"]].groupby([\"personal_loan_closed\"]).mean()\n"
   ]
  },
  {
   "cell_type": "code",
   "execution_count": 61,
   "metadata": {},
   "outputs": [
    {
     "data": {
      "text/html": [
       "<div>\n",
       "<style>\n",
       "    .dataframe thead tr:only-child th {\n",
       "        text-align: right;\n",
       "    }\n",
       "\n",
       "    .dataframe thead th {\n",
       "        text-align: left;\n",
       "    }\n",
       "\n",
       "    .dataframe tbody tr th {\n",
       "        vertical-align: top;\n",
       "    }\n",
       "</style>\n",
       "<table border=\"1\" class=\"dataframe\">\n",
       "  <thead>\n",
       "    <tr style=\"text-align: right;\">\n",
       "      <th></th>\n",
       "      <th>debit_amount_apr</th>\n",
       "      <th>debit_amount_may</th>\n",
       "      <th>debit_amount_jun</th>\n",
       "    </tr>\n",
       "    <tr>\n",
       "      <th>personal_loan_closed</th>\n",
       "      <th></th>\n",
       "      <th></th>\n",
       "      <th></th>\n",
       "    </tr>\n",
       "  </thead>\n",
       "  <tbody>\n",
       "    <tr>\n",
       "      <th>0.00</th>\n",
       "      <td>67,263.03</td>\n",
       "      <td>64,609.37</td>\n",
       "      <td>74,934.30</td>\n",
       "    </tr>\n",
       "    <tr>\n",
       "      <th>1.00</th>\n",
       "      <td>100,239.59</td>\n",
       "      <td>94,407.19</td>\n",
       "      <td>107,010.11</td>\n",
       "    </tr>\n",
       "  </tbody>\n",
       "</table>\n",
       "</div>"
      ],
      "text/plain": [
       "                      debit_amount_apr  debit_amount_may  debit_amount_jun\n",
       "personal_loan_closed                                                      \n",
       "0.00                         67,263.03         64,609.37         74,934.30\n",
       "1.00                        100,239.59         94,407.19        107,010.11"
      ]
     },
     "execution_count": 61,
     "metadata": {},
     "output_type": "execute_result"
    }
   ],
   "source": [
    "df[[\"personal_loan_closed\",\"debit_amount_apr\",\"debit_amount_may\",\"debit_amount_jun\"]].groupby([\"personal_loan_closed\"]).mean()"
   ]
  },
  {
   "cell_type": "code",
   "execution_count": 208,
   "metadata": {
    "collapsed": true
   },
   "outputs": [],
   "source": [
    "# Customers who have already closed their personal loans are doing high credit and debit card transactions \n",
    "# Same behavior is observed for Credit and Debit amounnts as well"
   ]
  },
  {
   "cell_type": "markdown",
   "metadata": {},
   "source": [
    "#### So we can recommend credit cards or debit cards to those customers who has history of Personal loans and closed"
   ]
  },
  {
   "cell_type": "code",
   "execution_count": 70,
   "metadata": {},
   "outputs": [
    {
     "data": {
      "text/html": [
       "<div>\n",
       "<style>\n",
       "    .dataframe thead tr:only-child th {\n",
       "        text-align: right;\n",
       "    }\n",
       "\n",
       "    .dataframe thead th {\n",
       "        text-align: left;\n",
       "    }\n",
       "\n",
       "    .dataframe tbody tr th {\n",
       "        vertical-align: top;\n",
       "    }\n",
       "</style>\n",
       "<table border=\"1\" class=\"dataframe\">\n",
       "  <thead>\n",
       "    <tr style=\"text-align: right;\">\n",
       "      <th></th>\n",
       "      <th>cc_cons_apr</th>\n",
       "      <th>cc_cons_may</th>\n",
       "      <th>cc_cons_jun</th>\n",
       "    </tr>\n",
       "    <tr>\n",
       "      <th>vehicle_loan_closed</th>\n",
       "      <th></th>\n",
       "      <th></th>\n",
       "      <th></th>\n",
       "    </tr>\n",
       "  </thead>\n",
       "  <tbody>\n",
       "    <tr>\n",
       "      <th>0.00</th>\n",
       "      <td>16,196.69</td>\n",
       "      <td>14,055.37</td>\n",
       "      <td>8,830.66</td>\n",
       "    </tr>\n",
       "    <tr>\n",
       "      <th>1.00</th>\n",
       "      <td>21,492.69</td>\n",
       "      <td>18,114.18</td>\n",
       "      <td>11,113.35</td>\n",
       "    </tr>\n",
       "  </tbody>\n",
       "</table>\n",
       "</div>"
      ],
      "text/plain": [
       "                     cc_cons_apr  cc_cons_may  cc_cons_jun\n",
       "vehicle_loan_closed                                       \n",
       "0.00                   16,196.69    14,055.37     8,830.66\n",
       "1.00                   21,492.69    18,114.18    11,113.35"
      ]
     },
     "execution_count": 70,
     "metadata": {},
     "output_type": "execute_result"
    }
   ],
   "source": [
    "df = pd.read_csv('train.csv')\n",
    "df[\"vehicle_loan_active\"] = df[\"personal_loan_active\"].fillna(0)\n",
    "df[\"vehicle_loan_closed\"] = df[\"personal_loan_closed\"].fillna(0)\n",
    "df[[\"vehicle_loan_closed\",\"cc_cons_apr\",\"cc_cons_may\",\"cc_cons_jun\"]].groupby([\"vehicle_loan_closed\"]).mean()"
   ]
  },
  {
   "cell_type": "code",
   "execution_count": 71,
   "metadata": {},
   "outputs": [
    {
     "data": {
      "text/html": [
       "<div>\n",
       "<style>\n",
       "    .dataframe thead tr:only-child th {\n",
       "        text-align: right;\n",
       "    }\n",
       "\n",
       "    .dataframe thead th {\n",
       "        text-align: left;\n",
       "    }\n",
       "\n",
       "    .dataframe tbody tr th {\n",
       "        vertical-align: top;\n",
       "    }\n",
       "</style>\n",
       "<table border=\"1\" class=\"dataframe\">\n",
       "  <thead>\n",
       "    <tr style=\"text-align: right;\">\n",
       "      <th></th>\n",
       "      <th>dc_cons_apr</th>\n",
       "      <th>dc_cons_may</th>\n",
       "      <th>dc_cons_jun</th>\n",
       "    </tr>\n",
       "    <tr>\n",
       "      <th>vehicle_loan_closed</th>\n",
       "      <th></th>\n",
       "      <th></th>\n",
       "      <th></th>\n",
       "    </tr>\n",
       "  </thead>\n",
       "  <tbody>\n",
       "    <tr>\n",
       "      <th>0.00</th>\n",
       "      <td>5,688.02</td>\n",
       "      <td>5,591.74</td>\n",
       "      <td>4,623.59</td>\n",
       "    </tr>\n",
       "    <tr>\n",
       "      <th>1.00</th>\n",
       "      <td>6,316.02</td>\n",
       "      <td>6,226.71</td>\n",
       "      <td>5,273.97</td>\n",
       "    </tr>\n",
       "  </tbody>\n",
       "</table>\n",
       "</div>"
      ],
      "text/plain": [
       "                     dc_cons_apr  dc_cons_may  dc_cons_jun\n",
       "vehicle_loan_closed                                       \n",
       "0.00                    5,688.02     5,591.74     4,623.59\n",
       "1.00                    6,316.02     6,226.71     5,273.97"
      ]
     },
     "execution_count": 71,
     "metadata": {},
     "output_type": "execute_result"
    }
   ],
   "source": [
    "df[[\"vehicle_loan_closed\",\"dc_cons_apr\",\"dc_cons_may\",\"dc_cons_jun\"]].groupby([\"vehicle_loan_closed\"]).mean()"
   ]
  },
  {
   "cell_type": "code",
   "execution_count": 72,
   "metadata": {},
   "outputs": [
    {
     "data": {
      "text/html": [
       "<div>\n",
       "<style>\n",
       "    .dataframe thead tr:only-child th {\n",
       "        text-align: right;\n",
       "    }\n",
       "\n",
       "    .dataframe thead th {\n",
       "        text-align: left;\n",
       "    }\n",
       "\n",
       "    .dataframe tbody tr th {\n",
       "        vertical-align: top;\n",
       "    }\n",
       "</style>\n",
       "<table border=\"1\" class=\"dataframe\">\n",
       "  <thead>\n",
       "    <tr style=\"text-align: right;\">\n",
       "      <th></th>\n",
       "      <th>credit_amount_apr</th>\n",
       "      <th>credit_amount_may</th>\n",
       "      <th>credit_amount_jun</th>\n",
       "    </tr>\n",
       "    <tr>\n",
       "      <th>vehicle_loan_closed</th>\n",
       "      <th></th>\n",
       "      <th></th>\n",
       "      <th></th>\n",
       "    </tr>\n",
       "  </thead>\n",
       "  <tbody>\n",
       "    <tr>\n",
       "      <th>0.00</th>\n",
       "      <td>72,454.94</td>\n",
       "      <td>76,926.33</td>\n",
       "      <td>73,224.23</td>\n",
       "    </tr>\n",
       "    <tr>\n",
       "      <th>1.00</th>\n",
       "      <td>108,124.52</td>\n",
       "      <td>109,066.42</td>\n",
       "      <td>104,288.06</td>\n",
       "    </tr>\n",
       "  </tbody>\n",
       "</table>\n",
       "</div>"
      ],
      "text/plain": [
       "                     credit_amount_apr  credit_amount_may  credit_amount_jun\n",
       "vehicle_loan_closed                                                         \n",
       "0.00                         72,454.94          76,926.33          73,224.23\n",
       "1.00                        108,124.52         109,066.42         104,288.06"
      ]
     },
     "execution_count": 72,
     "metadata": {},
     "output_type": "execute_result"
    }
   ],
   "source": [
    "df[[\"vehicle_loan_closed\",\"credit_amount_apr\",\"credit_amount_may\",\"credit_amount_jun\"]].groupby([\"vehicle_loan_closed\"]).mean()"
   ]
  },
  {
   "cell_type": "code",
   "execution_count": 73,
   "metadata": {},
   "outputs": [
    {
     "data": {
      "text/html": [
       "<div>\n",
       "<style>\n",
       "    .dataframe thead tr:only-child th {\n",
       "        text-align: right;\n",
       "    }\n",
       "\n",
       "    .dataframe thead th {\n",
       "        text-align: left;\n",
       "    }\n",
       "\n",
       "    .dataframe tbody tr th {\n",
       "        vertical-align: top;\n",
       "    }\n",
       "</style>\n",
       "<table border=\"1\" class=\"dataframe\">\n",
       "  <thead>\n",
       "    <tr style=\"text-align: right;\">\n",
       "      <th></th>\n",
       "      <th>debit_amount_apr</th>\n",
       "      <th>debit_amount_may</th>\n",
       "      <th>debit_amount_jun</th>\n",
       "    </tr>\n",
       "    <tr>\n",
       "      <th>vehicle_loan_closed</th>\n",
       "      <th></th>\n",
       "      <th></th>\n",
       "      <th></th>\n",
       "    </tr>\n",
       "  </thead>\n",
       "  <tbody>\n",
       "    <tr>\n",
       "      <th>0.00</th>\n",
       "      <td>67,263.03</td>\n",
       "      <td>64,609.37</td>\n",
       "      <td>74,934.30</td>\n",
       "    </tr>\n",
       "    <tr>\n",
       "      <th>1.00</th>\n",
       "      <td>100,239.59</td>\n",
       "      <td>94,407.19</td>\n",
       "      <td>107,010.11</td>\n",
       "    </tr>\n",
       "  </tbody>\n",
       "</table>\n",
       "</div>"
      ],
      "text/plain": [
       "                     debit_amount_apr  debit_amount_may  debit_amount_jun\n",
       "vehicle_loan_closed                                                      \n",
       "0.00                        67,263.03         64,609.37         74,934.30\n",
       "1.00                       100,239.59         94,407.19        107,010.11"
      ]
     },
     "execution_count": 73,
     "metadata": {},
     "output_type": "execute_result"
    }
   ],
   "source": [
    "df[[\"vehicle_loan_closed\",\"debit_amount_apr\",\"debit_amount_may\",\"debit_amount_jun\"]].groupby([\"vehicle_loan_closed\"]).mean()"
   ]
  },
  {
   "cell_type": "code",
   "execution_count": null,
   "metadata": {
    "collapsed": true
   },
   "outputs": [],
   "source": [
    "# Customers who have already closed their vehicle loans are doing high credit and debit card transactions \n",
    "# Same behavior is observed for Credit and Debit amounnts as well\n"
   ]
  },
  {
   "cell_type": "markdown",
   "metadata": {},
   "source": [
    "#### So we can recommend credit cards or debit cards to those customers who has history of Vehicle loans and closed"
   ]
  },
  {
   "cell_type": "code",
   "execution_count": 209,
   "metadata": {},
   "outputs": [
    {
     "name": "stdout",
     "output_type": "stream",
     "text": [
      "======================================================================================================\n",
      "          credit_amount_apr  credit_amount_may  credit_amount_jun\n",
      "loan_enq                                                         \n",
      "N                 74,257.06          79,353.97          75,276.03\n",
      "Y                134,590.60          92,070.40         105,804.32\n",
      "======================================================================================================\n",
      "          debit_amount_apr  debit_amount_may  debit_amount_jun\n",
      "loan_enq                                                      \n",
      "N                69,200.50         66,683.38         77,068.56\n",
      "Y               114,118.67         88,863.66        105,396.15\n",
      "======================================================================================================\n"
     ]
    }
   ],
   "source": [
    "df = pd.read_csv('train.csv')\n",
    "df[\"loan_enq\"].fillna(\"N\",inplace=True)\n",
    "print(\"======================================================================================================\")\n",
    "print(df[[\"loan_enq\",\"credit_amount_apr\",\"credit_amount_may\",\"credit_amount_jun\"]].groupby([\"loan_enq\"]).mean())\n",
    "print(\"======================================================================================================\")\n",
    "print(df[[\"loan_enq\",\"debit_amount_apr\",\"debit_amount_may\",\"debit_amount_jun\"]].groupby([\"loan_enq\"]).mean())\n",
    "print(\"======================================================================================================\")"
   ]
  },
  {
   "cell_type": "code",
   "execution_count": 212,
   "metadata": {
    "collapsed": true
   },
   "outputs": [],
   "source": [
    "# Customers who have enquired about loans - their credit and debit transaction amounts are comparatively very high compared to who didn't enquire   "
   ]
  },
  {
   "cell_type": "code",
   "execution_count": null,
   "metadata": {
    "collapsed": true
   },
   "outputs": [],
   "source": []
  },
  {
   "cell_type": "code",
   "execution_count": 213,
   "metadata": {},
   "outputs": [
    {
     "name": "stdout",
     "output_type": "stream",
     "text": [
      "===============================================================\n",
      "        investment_1  investment_2  investment_3  investment_4\n",
      "gender                                                        \n",
      "F                149           468           176            34\n",
      "M               1277          1870          1156           372\n",
      "===============================================================\n",
      "        investment_1  investment_2  investment_3  investment_4\n",
      "gender                                                        \n",
      "F         802,749.57    186,651.46     37,397.19      4,370.44\n",
      "M         812,534.19    174,016.85     40,117.27      5,027.68\n",
      "===============================================================\n"
     ]
    }
   ],
   "source": [
    "df = pd.read_csv('train.csv')\n",
    "print(\"===============================================================\")\n",
    "print(df[[\"gender\",\"investment_1\",\"investment_2\",\"investment_3\",\"investment_4\"]].groupby([\"gender\"]).count())\n",
    "print(\"===============================================================\")\n",
    "print(df[[\"gender\",\"investment_1\",\"investment_2\",\"investment_3\",\"investment_4\"]].groupby([\"gender\"]).mean())\n",
    "print(\"===============================================================\")"
   ]
  },
  {
   "cell_type": "code",
   "execution_count": 214,
   "metadata": {
    "collapsed": true
   },
   "outputs": [],
   "source": [
    "## It is observed that WRT gender, Males are dominantly doing more Investments than Females\n",
    "## However if you observe the average Fixed Deposit spent per customer in Females are doing higher than Males\n",
    "## Though more male customers are investing in DEMAT account, the average Amount invest in DEMAT account for Females is almost equal to Males "
   ]
  },
  {
   "cell_type": "code",
   "execution_count": 215,
   "metadata": {},
   "outputs": [
    {
     "name": "stdout",
     "output_type": "stream",
     "text": [
      "===============================================================\n",
      "              investment_1  investment_2  investment_3  investment_4\n",
      "account_type                                                        \n",
      "current                813          1470           682           296\n",
      "saving                 613           868           650           110\n",
      "===============================================================\n",
      "              investment_1  investment_2  investment_3  investment_4\n",
      "account_type                                                        \n",
      "current         798,500.41    177,302.11     40,102.57      4,642.49\n",
      "saving          828,768.37    175,265.29     39,396.18      5,861.05\n",
      "===============================================================\n"
     ]
    }
   ],
   "source": [
    "df = pd.read_csv('train.csv')\n",
    "print(\"===============================================================\")\n",
    "print(df[[\"account_type\",\"investment_1\",\"investment_2\",\"investment_3\",\"investment_4\"]].groupby([\"account_type\"]).count())\n",
    "print(\"===============================================================\")\n",
    "print(df[[\"account_type\",\"investment_1\",\"investment_2\",\"investment_3\",\"investment_4\"]].groupby([\"account_type\"]).mean())\n",
    "print(\"===============================================================\")"
   ]
  },
  {
   "cell_type": "code",
   "execution_count": 216,
   "metadata": {
    "collapsed": true
   },
   "outputs": [],
   "source": [
    "## WRT Account Type, Current account customers are compartively doing more Investments than Savings account Customers\n",
    "## Though more no.of current account customers are investing in DEMAT account, the average Amount invested in DEMAT account for Savings account customer is more than the current account customers\n",
    "## However if you observe the average Fixed Deposit spent per customer in both Current account and Savings Account customers are nearly same. Same is the case with Life Insurances\n"
   ]
  },
  {
   "cell_type": "code",
   "execution_count": 218,
   "metadata": {},
   "outputs": [
    {
     "name": "stdout",
     "output_type": "stream",
     "text": [
      "=================================================================\n",
      "         cc_cons_apr  cc_cons_may  cc_cons_jun   card_lim\n",
      "age_bin                                                  \n",
      "22-30      12,576.42    11,047.22     6,988.13  65,255.77\n",
      "30-45      17,257.89    15,064.08     9,261.37 127,866.46\n",
      "45-60      22,605.11    18,375.19    12,327.83 212,171.89\n",
      "60+        22,721.72    17,942.26    13,069.44 235,822.30\n",
      "=================================================================\n",
      "         dc_cons_apr  dc_cons_may  dc_cons_jun\n",
      "age_bin                                       \n",
      "22-30       5,434.66     5,255.39     4,379.03\n",
      "30-45       5,739.64     5,675.34     4,696.63\n",
      "45-60       7,114.25     6,721.11     6,119.81\n",
      "60+         9,143.47    12,522.48     7,397.45\n",
      "=================================================================\n",
      "         credit_amount_apr  credit_amount_may  credit_amount_jun\n",
      "age_bin                                                         \n",
      "22-30            54,339.60          59,980.04          63,001.47\n",
      "30-45            78,142.71          82,028.56          75,627.87\n",
      "45-60           109,132.56         109,398.35         107,725.55\n",
      "60+             140,300.14         157,988.21         107,034.45\n",
      "=================================================================\n",
      "         debit_amount_apr  debit_amount_may  debit_amount_jun\n",
      "age_bin                                                      \n",
      "22-30           52,912.44         50,552.88         64,324.34\n",
      "30-45           71,808.44         69,333.29         77,578.11\n",
      "45-60           97,655.60         94,302.88        107,839.48\n",
      "60+            119,062.87         91,240.32        132,156.42\n",
      "=================================================================\n"
     ]
    }
   ],
   "source": [
    "bins = [22, 30, 45, 60,224]\n",
    "labels = [\"22-30\",\"30-45\",\"45-60\",\"60+\"]\n",
    "df[\"age_bin\"] = pd.cut(df['age'], bins=bins, labels=labels)\n",
    "print(\"=================================================================\")\n",
    "print(df[[\"age_bin\",\"cc_cons_apr\",\"cc_cons_may\",\"cc_cons_jun\",\"card_lim\"]].groupby([\"age_bin\"]).mean())\n",
    "print(\"=================================================================\")\n",
    "print(df[[\"age_bin\",\"dc_cons_apr\",\"dc_cons_may\",\"dc_cons_jun\"]].groupby([\"age_bin\"]).mean())\n",
    "print(\"=================================================================\")\n",
    "print(df[[\"age_bin\",\"credit_amount_apr\",\"credit_amount_may\",\"credit_amount_jun\"]].groupby([\"age_bin\"]).mean())\n",
    "print(\"=================================================================\")\n",
    "print(df[[\"age_bin\",\"debit_amount_apr\",\"debit_amount_may\",\"debit_amount_jun\"]].groupby([\"age_bin\"]).mean())\n",
    "print(\"=================================================================\")"
   ]
  },
  {
   "cell_type": "code",
   "execution_count": 219,
   "metadata": {},
   "outputs": [],
   "source": [
    "# Age group 45-60 and 60+ have high credit card spends and debit card spends \n",
    "# Same scenario observed with Credit and Debit amounts also"
   ]
  },
  {
   "cell_type": "code",
   "execution_count": 220,
   "metadata": {},
   "outputs": [
    {
     "name": "stdout",
     "output_type": "stream",
     "text": [
      "=================================================================\n",
      "         cc_count_apr  cc_count_may  cc_count_jun   card_lim\n",
      "age_bin                                                     \n",
      "22-30            8.84          9.06         11.61  65,255.77\n",
      "30-45            9.31          9.72         12.43 127,866.46\n",
      "45-60            9.12          9.64         13.21 212,171.89\n",
      "60+              8.18          9.19         12.36 235,822.30\n",
      "=================================================================\n",
      "         dc_count_apr  dc_count_may  dc_count_jun\n",
      "age_bin                                          \n",
      "22-30            6.26          7.55          9.68\n",
      "30-45            4.80          5.73          7.18\n",
      "45-60            4.13          4.60          6.00\n",
      "60+              4.18          5.81          5.78\n",
      "=================================================================\n",
      "         credit_count_apr  credit_count_may  credit_count_jun\n",
      "age_bin                                                      \n",
      "22-30                4.10              4.54              6.58\n",
      "30-45                3.78              4.04              5.66\n",
      "45-60                3.16              3.33              4.54\n",
      "60+                  3.02              3.16              4.12\n",
      "=================================================================\n",
      "         debit_count_apr  debit_count_may  debit_count_jun\n",
      "age_bin                                                   \n",
      "22-30              17.78            16.45            19.55\n",
      "30-45              14.41            13.52            15.38\n",
      "45-60              11.21            10.61            11.79\n",
      "60+                 8.48             8.69             8.84\n",
      "=================================================================\n"
     ]
    }
   ],
   "source": [
    "print(\"=================================================================\")\n",
    "print(df[[\"age_bin\",\"cc_count_apr\",\"cc_count_may\",\"cc_count_jun\",\"card_lim\"]].groupby([\"age_bin\"]).mean())\n",
    "print(\"=================================================================\")\n",
    "print(df[[\"age_bin\",\"dc_count_apr\",\"dc_count_may\",\"dc_count_jun\"]].groupby([\"age_bin\"]).mean())\n",
    "print(\"=================================================================\")\n",
    "print(df[[\"age_bin\",\"credit_count_apr\",\"credit_count_may\",\"credit_count_jun\"]].groupby([\"age_bin\"]).mean())\n",
    "print(\"=================================================================\")\n",
    "print(df[[\"age_bin\",\"debit_count_apr\",\"debit_count_may\",\"debit_count_jun\"]].groupby([\"age_bin\"]).mean())\n",
    "print(\"=================================================================\")"
   ]
  },
  {
   "cell_type": "code",
   "execution_count": 221,
   "metadata": {},
   "outputs": [],
   "source": [
    "# Although the credit and debit amounts is very high for age group 60+, but the  no.of transactions is hgh for 22-30 Age group.\n",
    "# this might be because of Age groups 22-30 do more transaction for less amount (like train tickets, movie tickets,shopping) etc and 60+ age group customers spend huge amounts in less transactions(Like furniture, Medical emergencies, House hold)"
   ]
  },
  {
   "cell_type": "code",
   "execution_count": null,
   "metadata": {
    "collapsed": true
   },
   "outputs": [],
   "source": []
  },
  {
   "cell_type": "code",
   "execution_count": 128,
   "metadata": {},
   "outputs": [],
   "source": [
    "#Creating new column EMI STATUS based on the EMI Active - Whether customer has EMI or NOT"
   ]
  },
  {
   "cell_type": "code",
   "execution_count": 222,
   "metadata": {},
   "outputs": [],
   "source": [
    "df['emi_status'] = np.where(df['emi_active']>0,1,0)"
   ]
  },
  {
   "cell_type": "code",
   "execution_count": 223,
   "metadata": {},
   "outputs": [
    {
     "name": "stdout",
     "output_type": "stream",
     "text": [
      "===============================================================\n",
      "            investment_1  investment_2  investment_3  investment_4\n",
      "emi_status                                                        \n",
      "0                    537          1125           553           176\n",
      "1                    889          1213           779           230\n",
      "===============================================================\n",
      "            investment_1  investment_2  investment_3  investment_4\n",
      "emi_status                                                        \n",
      "0             932,000.33    169,613.44     30,738.75      4,688.32\n",
      "1             738,730.79    182,975.48     46,160.38      5,190.21\n",
      "===============================================================\n"
     ]
    }
   ],
   "source": [
    "print(\"===============================================================\")\n",
    "print(df[[\"emi_status\",\"investment_1\",\"investment_2\",\"investment_3\",\"investment_4\"]].groupby([\"emi_status\"]).count())\n",
    "print(\"===============================================================\")\n",
    "print(df[[\"emi_status\",\"investment_1\",\"investment_2\",\"investment_3\",\"investment_4\"]].groupby([\"emi_status\"]).mean())\n",
    "print(\"===============================================================\")\n",
    "\n",
    "## Customers who have active investments, have done more no of investments\n",
    "## though no.of investments is high avg amount of investments in DEMAT is high for users who have no active emi's"
   ]
  },
  {
   "cell_type": "code",
   "execution_count": 224,
   "metadata": {},
   "outputs": [
    {
     "name": "stdout",
     "output_type": "stream",
     "text": [
      "=================================================================\n",
      "            cc_cons_apr  cc_cons_may  cc_cons_jun   card_lim\n",
      "emi_status                                                  \n",
      "0             14,027.24    12,168.34     7,808.48  98,699.16\n",
      "1             19,110.11    16,496.68    10,167.35 142,791.70\n",
      "=================================================================\n",
      "            dc_cons_apr  dc_cons_may  dc_cons_jun\n",
      "emi_status                                       \n",
      "0              5,704.03     5,358.52     4,642.39\n",
      "1              5,756.68     5,964.69     4,697.56\n",
      "=================================================================\n",
      "            credit_amount_apr  credit_amount_may  credit_amount_jun\n",
      "emi_status                                                         \n",
      "0                   59,031.83          64,009.06          60,226.68\n",
      "1                   91,229.13          94,635.42          90,761.53\n",
      "=================================================================\n",
      "            debit_amount_apr  debit_amount_may  debit_amount_jun\n",
      "emi_status                                                      \n",
      "0                  55,534.01         51,955.80         61,324.35\n",
      "1                  83,919.75         81,720.63         93,318.54\n",
      "=================================================================\n"
     ]
    }
   ],
   "source": [
    "print(\"=================================================================\")\n",
    "print(df[[\"emi_status\",\"cc_cons_apr\",\"cc_cons_may\",\"cc_cons_jun\",\"card_lim\"]].groupby([\"emi_status\"]).mean())\n",
    "print(\"=================================================================\")\n",
    "print(df[[\"emi_status\",\"dc_cons_apr\",\"dc_cons_may\",\"dc_cons_jun\"]].groupby([\"emi_status\"]).mean())\n",
    "print(\"=================================================================\")\n",
    "print(df[[\"emi_status\",\"credit_amount_apr\",\"credit_amount_may\",\"credit_amount_jun\"]].groupby([\"emi_status\"]).mean())\n",
    "print(\"=================================================================\")\n",
    "print(df[[\"emi_status\",\"debit_amount_apr\",\"debit_amount_may\",\"debit_amount_jun\"]].groupby([\"emi_status\"]).mean())\n",
    "print(\"=================================================================\")\n",
    "\n",
    "## Customers with active emi status are having high credit and debit counts\n",
    "## Customers with active emi status are having high credit and debit amount"
   ]
  },
  {
   "cell_type": "code",
   "execution_count": 225,
   "metadata": {},
   "outputs": [
    {
     "name": "stdout",
     "output_type": "stream",
     "text": [
      "===============================================================\n",
      "                     investment_1  investment_2  investment_3  investment_4\n",
      "account_type gender                                                        \n",
      "current      F                 74           305            93            30\n",
      "             M                739          1165           589           266\n",
      "saving       F                 75           163            83             4\n",
      "             M                538           705           567           106\n",
      "===============================================================\n",
      "                     investment_1  investment_2  investment_3  investment_4\n",
      "account_type gender                                                        \n",
      "current      F         145,555.54    206,244.21     33,743.85      4,181.37\n",
      "             M         863,883.25    169,725.00     41,106.58      4,694.50\n",
      "saving       F       1,451,181.01    149,990.17     41,490.70      5,788.50\n",
      "             M         742,000.81    181,109.05     39,089.57      5,863.79\n",
      "===============================================================\n"
     ]
    }
   ],
   "source": [
    "# df = pd.read_csv('train.csv')\n",
    "print(\"===============================================================\")\n",
    "print(df[[\"account_type\",\"gender\",\"investment_1\",\"investment_2\",\"investment_3\",\"investment_4\"]].groupby([\"account_type\",\"gender\",]).count())\n",
    "print(\"===============================================================\")\n",
    "print(df[[\"account_type\",\"gender\",\"investment_1\",\"investment_2\",\"investment_3\",\"investment_4\"]].groupby([\"account_type\",\"gender\",]).mean())\n",
    "print(\"===============================================================\")"
   ]
  },
  {
   "cell_type": "code",
   "execution_count": 143,
   "metadata": {
    "collapsed": true
   },
   "outputs": [],
   "source": [
    "# Peculiar Behaviour - Female Customers who have savings account are making highest investment in DEMAT accounts\n",
    "# Female Customers who have current account have done high FD's "
   ]
  },
  {
   "cell_type": "code",
   "execution_count": null,
   "metadata": {},
   "outputs": [],
   "source": []
  },
  {
   "cell_type": "markdown",
   "metadata": {},
   "source": [
    "# Univariate Analysis"
   ]
  },
  {
   "cell_type": "code",
   "execution_count": 226,
   "metadata": {},
   "outputs": [
    {
     "name": "stdout",
     "output_type": "stream",
     "text": [
      "current   0.79\n",
      "saving    0.21\n",
      "Name: account_type, dtype: float64\n",
      "M   0.86\n",
      "F   0.14\n",
      "Name: gender, dtype: float64\n"
     ]
    },
    {
     "data": {
      "image/png": "[encoded data removed]",
      "text/plain": [
       "<Figure size 1152x720 with 3 Axes>"
      ]
     },
     "metadata": {},
     "output_type": "display_data"
    }
   ],
   "source": [
    "# Account Type\n",
    "plt.figure(figsize = (16,10))\n",
    "plt.subplot(221)\n",
    "sns.countplot(df['account_type'])\n",
    "plt.subplot(222)\n",
    "sns.countplot(df['gender'])\n",
    "plt.subplot(223)\n",
    "sns.countplot(x = df['gender'], hue = df['account_type'])\n",
    "\n",
    "print(df['account_type'].value_counts(normalize = True))\n",
    "print(df['gender'].value_counts(normalize = True))\n",
    "\n",
    "## Only 2% of users are holding saving accounts and 79% users hold current accounts\n",
    "## Male users are 86% while female users are only 14%\n",
    "# Males hold highest no of current and savings accounts"
   ]
  },
  {
   "cell_type": "code",
   "execution_count": 227,
   "metadata": {},
   "outputs": [
    {
     "name": "stdout",
     "output_type": "stream",
     "text": [
      "Card Limit Null Values: 9\n",
      "Average Card Limit per customer :  121553.74965712718\n"
     ]
    },
    {
     "data": {
      "text/plain": [
       "<matplotlib.axes._subplots.AxesSubplot at 0x1a291a74828>"
      ]
     },
     "execution_count": 227,
     "metadata": {},
     "output_type": "execute_result"
    },
    {
     "data": {
      "image/png": "[encoded data removed]",
      "text/plain": [
       "<Figure size 1080x720 with 2 Axes>"
      ]
     },
     "metadata": {},
     "output_type": "display_data"
    }
   ],
   "source": [
    "### Card Limit\n",
    "print('Card Limit Null Values:',df['card_lim'].isnull().sum())\n",
    "print(\"Average Card Limit per customer : \",df['card_lim'].mean())\n",
    "plt.figure(2, figsize=(15,10))\n",
    "plt.subplot(221)\n",
    "sns.distplot(df['card_lim'].dropna())\n",
    "plt.axvline(df['card_lim'].dropna().mean(), color='k', linestyle='dashed', linewidth=1)\n",
    "plt.subplot(222)\n",
    "sns.boxplot(df['card_lim'].dropna())\n",
    "\n",
    "\n",
    "# average card limit for each user is around 121553.749"
   ]
  },
  {
   "cell_type": "code",
   "execution_count": 228,
   "metadata": {},
   "outputs": [
    {
     "name": "stdout",
     "output_type": "stream",
     "text": [
      "personal loan active status:\n",
      "0.0   0.92\n",
      "1.0   0.08\n",
      "Name: personal_loan_active, dtype: float64\n",
      "personal loan closed:\n",
      "0.0   0.91\n",
      "1.0   0.09\n",
      "Name: personal_loan_closed, dtype: float64\n"
     ]
    },
    {
     "data": {
      "text/plain": [
       "<matplotlib.axes._subplots.AxesSubplot at 0x1a28c3e9f98>"
      ]
     },
     "execution_count": 228,
     "metadata": {},
     "output_type": "execute_result"
    },
    {
     "data": {
      "image/png": "[encoded data removed]",
      "text/plain": [
       "<Figure size 864x720 with 2 Axes>"
      ]
     },
     "metadata": {},
     "output_type": "display_data"
    }
   ],
   "source": [
    "### personal_loan_active & personal_loan_closed\n",
    "print('personal loan active status:')\n",
    "print(df['personal_loan_active'].fillna('0.0').value_counts(normalize = True))\n",
    "print('personal loan closed:')\n",
    "print(df['personal_loan_closed'].fillna('0.0').value_counts(normalize = True))\n",
    "plt.figure(2, figsize=(12,10))\n",
    "plt.subplot(221)\n",
    "sns.countplot(df['personal_loan_active'].fillna('0.0'))\n",
    "plt.subplot(222)\n",
    "sns.countplot(df['personal_loan_closed'].fillna('0.0'))\n",
    "\n",
    "\n",
    "### Among all the customers only 8% of customers are active with Personal Loan and also in the past history of personal loan closed"
   ]
  },
  {
   "cell_type": "code",
   "execution_count": 229,
   "metadata": {},
   "outputs": [
    {
     "name": "stdout",
     "output_type": "stream",
     "text": [
      "vehicle loan active status:\n",
      "0.0   0.97\n",
      "1.0   0.03\n",
      "Name: vehicle_loan_active, dtype: float64\n",
      "vehicle loan closed:\n",
      "0.0   0.95\n",
      "1.0   0.05\n",
      "Name: vehicle_loan_closed, dtype: float64\n"
     ]
    },
    {
     "data": {
      "text/plain": [
       "<matplotlib.axes._subplots.AxesSubplot at 0x1a290c23f98>"
      ]
     },
     "execution_count": 229,
     "metadata": {},
     "output_type": "execute_result"
    },
    {
     "data": {
      "image/png": "[encoded data removed]",
      "text/plain": [
       "<Figure size 864x720 with 2 Axes>"
      ]
     },
     "metadata": {},
     "output_type": "display_data"
    }
   ],
   "source": [
    "### vehicle_loan_active & vehicle_loan_closed\n",
    "print('vehicle loan active status:')\n",
    "print(df['vehicle_loan_active'].fillna('0.0').value_counts(normalize = True))\n",
    "print('vehicle loan closed:')\n",
    "print(df['vehicle_loan_closed'].fillna('0.0').value_counts(normalize = True))\n",
    "plt.figure(2, figsize=(12,10))\n",
    "plt.subplot(221)\n",
    "sns.countplot(df['vehicle_loan_active'].fillna('0.0'))\n",
    "plt.subplot(222)\n",
    "sns.countplot(df['vehicle_loan_closed'].fillna('0.0'))\n",
    "\n",
    "\n",
    "# users with vehicle loan active are only 3%\n",
    "# users with vehicle loan closed in past are only 5%"
   ]
  },
  {
   "cell_type": "code",
   "execution_count": 230,
   "metadata": {},
   "outputs": [
    {
     "name": "stdout",
     "output_type": "stream",
     "text": [
      "N   0.98\n",
      "Y   0.02\n",
      "Name: loan_enq, dtype: float64\n"
     ]
    },
    {
     "data": {
      "text/plain": [
       "<matplotlib.axes._subplots.AxesSubplot at 0x1a290bc52b0>"
      ]
     },
     "execution_count": 230,
     "metadata": {},
     "output_type": "execute_result"
    },
    {
     "data": {
      "image/png": "[encoded data removed]",
      "text/plain": [
       "<Figure size 432x288 with 1 Axes>"
      ]
     },
     "metadata": {},
     "output_type": "display_data"
    }
   ],
   "source": [
    "### loan_enq\n",
    "print(df['loan_enq'].fillna('N').value_counts(normalize=True))\n",
    "sns.countplot(df['loan_enq'].fillna('N'))\n",
    "\n",
    "## Only around 2% of the customers enquired about loan on overall data"
   ]
  },
  {
   "cell_type": "code",
   "execution_count": 231,
   "metadata": {},
   "outputs": [
    {
     "name": "stdout",
     "output_type": "stream",
     "text": [
      "====================================================================================================\n",
      "Max credit amount for April, May, June:\n",
      "                          count      mean        std  min       25%       50%  \\\n",
      "max_credit_amount_apr 29,518.00 46,471.13 118,141.26 0.18 18,000.00 28,131.00   \n",
      "max_credit_amount_may 29,415.00 49,696.88 128,725.56 0.15 18,173.00 30,000.00   \n",
      "max_credit_amount_jun 31,277.00 44,743.55 121,537.85 0.06 16,000.00 26,876.00   \n",
      "\n",
      "                            75%           max  \n",
      "max_credit_amount_apr 48,000.00 12,029,154.00  \n",
      "max_credit_amount_may 50,000.00 12,851,029.85  \n",
      "max_credit_amount_jun 47,010.00 12,932,377.08  \n",
      "====================================================================================================\n",
      "Max credit amount for April, May, June for saving account users: \n",
      "                         count      mean        std  min       25%       50%  \\\n",
      "max_credit_amount_apr 5,916.00 52,006.33 114,286.66 0.32 15,000.00 28,500.00   \n",
      "max_credit_amount_may 6,023.00 57,772.09 227,001.34 0.25 17,032.00 31,000.00   \n",
      "max_credit_amount_jun 6,739.00 46,579.02 189,307.21 0.06 10,000.00 25,000.00   \n",
      "\n",
      "                            75%           max  \n",
      "max_credit_amount_apr 50,000.00  3,000,000.00  \n",
      "max_credit_amount_may 54,988.00 12,851,029.85  \n",
      "max_credit_amount_jun 48,889.00 12,932,377.08  \n",
      "====================================================================================================\n",
      "Max credit amount for April, May, June for current account users: \n",
      "                          count      mean        std  min       25%       50%  \\\n",
      "max_credit_amount_apr 23,602.00 45,083.70 119,049.92 0.18 18,496.50 28,083.50   \n",
      "max_credit_amount_may 23,392.00 47,617.67  86,888.44 0.15 18,382.50 30,000.00   \n",
      "max_credit_amount_jun 24,538.00 44,239.47  94,795.00 0.08 17,281.00 27,416.00   \n",
      "\n",
      "                            75%           max  \n",
      "max_credit_amount_apr 46,739.50 12,029,154.00  \n",
      "max_credit_amount_may 50,000.00  4,600,000.00  \n",
      "max_credit_amount_jun 46,554.75  5,200,000.00  \n"
     ]
    }
   ],
   "source": [
    "# Max Credit Amounts for April, May, June\n",
    "print('====================================================================================================')\n",
    "print('Max credit amount for April, May, June:')\n",
    "print(df[['max_credit_amount_apr','max_credit_amount_may','max_credit_amount_jun']].describe().T)\n",
    "print('====================================================================================================')\n",
    "print('Max credit amount for April, May, June for saving account users: ')\n",
    "print(df[df['account_type'] == 'saving'][['max_credit_amount_apr','max_credit_amount_may','max_credit_amount_jun']].describe().T)\n",
    "print('====================================================================================================')\n",
    "print('Max credit amount for April, May, June for current account users: ')\n",
    "print(df[df['account_type'] == 'current'][['max_credit_amount_apr','max_credit_amount_may','max_credit_amount_jun']].describe().T)\n",
    "\n",
    "# Here Data needs to be reverified-\n",
    "# bcz the max values of current and saving account holders are having maximum credit amounts different(not in pattern)"
   ]
  },
  {
   "cell_type": "markdown",
   "metadata": {},
   "source": [
    "# Bivariant Analysis"
   ]
  },
  {
   "cell_type": "code",
   "execution_count": 232,
   "metadata": {},
   "outputs": [
    {
     "data": {
      "text/plain": [
       "<matplotlib.axes._subplots.AxesSubplot at 0x1a291fd7c18>"
      ]
     },
     "execution_count": 232,
     "metadata": {},
     "output_type": "execute_result"
    },
    {
     "data": {
      "image/png": "[encoded data removed]",
      "text/plain": [
       "<Figure size 1152x720 with 2 Axes>"
      ]
     },
     "metadata": {},
     "output_type": "display_data"
    }
   ],
   "source": [
    "###Target and account type\n",
    "\n",
    "plt.figure(1, figsize=(16,10))\n",
    "plt.subplot(221)\n",
    "sns.boxplot(x = df['account_type'],y = df['cc_cons'])\n",
    "plt.subplot(222)\n",
    "sns.distplot(df[df['account_type'] == 'saving']['cc_cons'], kde=True, hist=False, label='saving',kde_kws=dict(linewidth=5))\n",
    "sns.distplot(df[df['account_type'] == 'current']['cc_cons'], kde=True, hist=False, label='current',kde_kws=dict(linewidth=3))\n",
    "\n",
    "# WRT target variable there is different pattern for account types. So, account_type could be one of the important feature in predicting the target variable"
   ]
  },
  {
   "cell_type": "code",
   "execution_count": 233,
   "metadata": {},
   "outputs": [
    {
     "data": {
      "text/plain": [
       "<matplotlib.axes._subplots.AxesSubplot at 0x1a28d8cdba8>"
      ]
     },
     "execution_count": 233,
     "metadata": {},
     "output_type": "execute_result"
    },
    {
     "data": {
      "image/png": "[encoded data removed]",
      "text/plain": [
       "<Figure size 1152x720 with 2 Axes>"
      ]
     },
     "metadata": {},
     "output_type": "display_data"
    }
   ],
   "source": [
    "### target and gender\n",
    "\n",
    "plt.figure(1, figsize=(16,10))\n",
    "plt.subplot(221)\n",
    "sns.boxplot(x = df['gender'],y = df['cc_cons'])\n",
    "plt.subplot(222)\n",
    "sns.distplot(df[df['gender'] == 'F']['cc_cons'], kde=True, hist=False, label='Female',kde_kws=dict(linewidth=5))\n",
    "sns.distplot(df[df['gender'] == 'M']['cc_cons'], kde=True, hist=False, label='Male',kde_kws=dict(linewidth=3))\n",
    "\n",
    "# WRT target variable there is different pattern for gender. So, gender could be one of the important feature in predicting the target variable"
   ]
  },
  {
   "cell_type": "code",
   "execution_count": 234,
   "metadata": {},
   "outputs": [
    {
     "data": {
      "text/plain": [
       "<matplotlib.axes._subplots.AxesSubplot at 0x1a291a440b8>"
      ]
     },
     "execution_count": 234,
     "metadata": {},
     "output_type": "execute_result"
    },
    {
     "data": {
      "image/png": "[encoded data removed]",
      "text/plain": [
       "<Figure size 432x288 with 1 Axes>"
      ]
     },
     "metadata": {},
     "output_type": "display_data"
    }
   ],
   "source": [
    "### loan enquiry and target\n",
    "\n",
    "loanenq = df[['loan_enq','cc_cons']].fillna('N')\n",
    "\n",
    "sns.distplot(loanenq[loanenq['loan_enq'] == 'Y']['cc_cons'], kde=True, hist=False, label='Loan enquired',kde_kws=dict(linewidth=5))\n",
    "sns.distplot(loanenq[loanenq['loan_enq'] == 'N']['cc_cons'], kde=True, hist=False, label='Loan not enquired',kde_kws=dict(linewidth=3))\n",
    "\n",
    "# WRT target variable there is different pattern for loan enquiry. So, lon_enq could be one of the important feature in predicting the target variable"
   ]
  },
  {
   "cell_type": "code",
   "execution_count": 235,
   "metadata": {},
   "outputs": [
    {
     "data": {
      "text/html": [
       "<div>\n",
       "<style>\n",
       "    .dataframe thead tr:only-child th {\n",
       "        text-align: right;\n",
       "    }\n",
       "\n",
       "    .dataframe thead th {\n",
       "        text-align: left;\n",
       "    }\n",
       "\n",
       "    .dataframe tbody tr th {\n",
       "        vertical-align: top;\n",
       "    }\n",
       "</style>\n",
       "<table border=\"1\" class=\"dataframe\">\n",
       "  <thead>\n",
       "    <tr style=\"text-align: right;\">\n",
       "      <th></th>\n",
       "      <th>cc_cons_apr</th>\n",
       "      <th>cc_cons_may</th>\n",
       "      <th>cc_cons_jun</th>\n",
       "      <th>cc_cons</th>\n",
       "    </tr>\n",
       "  </thead>\n",
       "  <tbody>\n",
       "    <tr>\n",
       "      <th>cc_cons_apr</th>\n",
       "      <td>1.00</td>\n",
       "      <td>0.42</td>\n",
       "      <td>0.38</td>\n",
       "      <td>0.32</td>\n",
       "    </tr>\n",
       "    <tr>\n",
       "      <th>cc_cons_may</th>\n",
       "      <td>0.42</td>\n",
       "      <td>1.00</td>\n",
       "      <td>0.40</td>\n",
       "      <td>0.33</td>\n",
       "    </tr>\n",
       "    <tr>\n",
       "      <th>cc_cons_jun</th>\n",
       "      <td>0.38</td>\n",
       "      <td>0.40</td>\n",
       "      <td>1.00</td>\n",
       "      <td>0.38</td>\n",
       "    </tr>\n",
       "    <tr>\n",
       "      <th>cc_cons</th>\n",
       "      <td>0.32</td>\n",
       "      <td>0.33</td>\n",
       "      <td>0.38</td>\n",
       "      <td>1.00</td>\n",
       "    </tr>\n",
       "  </tbody>\n",
       "</table>\n",
       "</div>"
      ],
      "text/plain": [
       "             cc_cons_apr  cc_cons_may  cc_cons_jun  cc_cons\n",
       "cc_cons_apr         1.00         0.42         0.38     0.32\n",
       "cc_cons_may         0.42         1.00         0.40     0.33\n",
       "cc_cons_jun         0.38         0.40         1.00     0.38\n",
       "cc_cons             0.32         0.33         0.38     1.00"
      ]
     },
     "execution_count": 235,
     "metadata": {},
     "output_type": "execute_result"
    },
    {
     "data": {
      "image/png": "[encoded data removed]",
      "text/plain": [
       "<Figure size 1152x720 with 3 Axes>"
      ]
     },
     "metadata": {},
     "output_type": "display_data"
    }
   ],
   "source": [
    "### target & Credit card spend in April,may,jun\n",
    "\n",
    "\n",
    "plt.figure(1, figsize=(16,10))\n",
    "plt.subplot(221)\n",
    "sns.scatterplot(x = df['cc_cons_apr'] , y = df['cc_cons'])\n",
    "plt.subplot(222)\n",
    "sns.scatterplot(x = df['cc_cons_may'] , y = df['cc_cons'])\n",
    "plt.subplot(223)\n",
    "sns.scatterplot(x = df['cc_cons_jun'] , y = df['cc_cons'])\n",
    "df[['cc_cons_apr','cc_cons_may','cc_cons_jun','cc_cons']].corr()\n",
    "\n",
    "### Among all other features there is better positive relationship with Target variable"
   ]
  },
  {
   "cell_type": "code",
   "execution_count": 236,
   "metadata": {},
   "outputs": [
    {
     "data": {
      "text/plain": [
       "<matplotlib.axes._subplots.AxesSubplot at 0x1a291e11cc0>"
      ]
     },
     "execution_count": 236,
     "metadata": {},
     "output_type": "execute_result"
    },
    {
     "data": {
      "image/png": "[encoded data removed]",
      "text/plain": [
       "<Figure size 1152x720 with 3 Axes>"
      ]
     },
     "metadata": {},
     "output_type": "display_data"
    }
   ],
   "source": [
    "### gender ,acc type  and target\n",
    "\n",
    "\n",
    "plt.figure(1, figsize=(16,10))\n",
    "plt.subplot(221)\n",
    "sns.distplot(df[df['gender'] == 'M']['cc_cons'], kde=True, hist=False, label='Male',kde_kws=dict(linewidth=5))\n",
    "# plt.subplot(222)\n",
    "sns.distplot(df[df['gender'] == 'F']['cc_cons'], kde=True, hist=False, label='Female',kde_kws=dict(linewidth=3))\n",
    "plt.subplot(222)\n",
    "sns.distplot(df[(df['gender'] == 'M') & (df['account_type'] == 'saving')]['cc_cons'], kde=True, hist=False, label='Male-saving',kde_kws=dict(linewidth=5))\n",
    "# plt.subplot(224)\n",
    "sns.distplot(df[(df['gender'] == 'F') & (df['account_type'] == 'saving')]['cc_cons'], kde=True, hist=False, label='Female-saving',kde_kws=dict(linewidth=3))\n",
    "\n",
    "plt.subplot(223)\n",
    "sns.distplot(df[(df['gender'] == 'M') & (df['account_type'] == 'current')]['cc_cons'], kde=True, hist=False, label='Male-current',kde_kws=dict(linewidth=5))\n",
    "sns.distplot(df[(df['gender'] == 'F') & (df['account_type'] == 'current')]['cc_cons'], kde=True, hist=False, label='Female-current',kde_kws=dict(linewidth=3))"
   ]
  },
  {
   "cell_type": "markdown",
   "metadata": {},
   "source": [
    "### Correlation Analysis"
   ]
  },
  {
   "cell_type": "code",
   "execution_count": 237,
   "metadata": {
    "collapsed": true
   },
   "outputs": [],
   "source": [
    "\n",
    "def create_corr_df(df):\n",
    "    corrmat = df.corr()\n",
    "    corrlst, lst1, lst2, lst3 = [], [], [], []\n",
    "    cnt = 0\n",
    "\n",
    "    for i in list(df.columns):\n",
    "        if df[i].dtype != 'O':\n",
    "            for j in list(df.columns):\n",
    "                string1=i+j\n",
    "                corrlst.append(corrmat[i][j])\n",
    "                lst1.append(i+' & '+j)\n",
    "                lst2.append(sorted(list(string1.lower())))\n",
    "    for x in lst2:\n",
    "        string2 = ''\n",
    "        for y in lst2[cnt]:\n",
    "            string2 += y\n",
    "        cnt += 1\n",
    "        lst3.append(string2)\n",
    "\n",
    "    corr = pd.DataFrame({'Features': lst1, 'tempcolumns': lst3, 'Corr_value': corrlst})\n",
    "    corr.drop_duplicates(subset='tempcolumns',inplace=True)\n",
    "    corr.drop(labels='tempcolumns',axis=1,inplace=True)\n",
    "    corr.sort_values(by=['Corr_value'],ascending=False,inplace=True)\n",
    "    corr=corr[corr['Corr_value'] < 1]\n",
    "    corr.reset_index(drop=True,inplace=True)\n",
    "        \n",
    "    return corr"
   ]
  },
  {
   "cell_type": "code",
   "execution_count": 238,
   "metadata": {},
   "outputs": [
    {
     "data": {
      "text/html": [
       "<div>\n",
       "<style>\n",
       "    .dataframe thead tr:only-child th {\n",
       "        text-align: right;\n",
       "    }\n",
       "\n",
       "    .dataframe thead th {\n",
       "        text-align: left;\n",
       "    }\n",
       "\n",
       "    .dataframe tbody tr th {\n",
       "        vertical-align: top;\n",
       "    }\n",
       "</style>\n",
       "<table border=\"1\" class=\"dataframe\">\n",
       "  <thead>\n",
       "    <tr style=\"text-align: right;\">\n",
       "      <th></th>\n",
       "      <th>Corr_value</th>\n",
       "      <th>Features</th>\n",
       "    </tr>\n",
       "  </thead>\n",
       "  <tbody>\n",
       "    <tr>\n",
       "      <th>0</th>\n",
       "      <td>0.97</td>\n",
       "      <td>debit_amount_jun &amp; credit_amount_jun</td>\n",
       "    </tr>\n",
       "    <tr>\n",
       "      <th>1</th>\n",
       "      <td>0.93</td>\n",
       "      <td>credit_amount_may &amp; max_credit_amount_may</td>\n",
       "    </tr>\n",
       "    <tr>\n",
       "      <th>2</th>\n",
       "      <td>0.92</td>\n",
       "      <td>debit_amount_apr &amp; credit_amount_apr</td>\n",
       "    </tr>\n",
       "    <tr>\n",
       "      <th>3</th>\n",
       "      <td>0.88</td>\n",
       "      <td>credit_amount_apr &amp; max_credit_amount_apr</td>\n",
       "    </tr>\n",
       "    <tr>\n",
       "      <th>4</th>\n",
       "      <td>0.86</td>\n",
       "      <td>debit_amount_may &amp; credit_amount_may</td>\n",
       "    </tr>\n",
       "    <tr>\n",
       "      <th>5</th>\n",
       "      <td>0.80</td>\n",
       "      <td>credit_amount_jun &amp; max_credit_amount_jun</td>\n",
       "    </tr>\n",
       "    <tr>\n",
       "      <th>6</th>\n",
       "      <td>0.78</td>\n",
       "      <td>debit_amount_apr &amp; max_credit_amount_apr</td>\n",
       "    </tr>\n",
       "    <tr>\n",
       "      <th>7</th>\n",
       "      <td>0.75</td>\n",
       "      <td>debit_amount_jun &amp; max_credit_amount_jun</td>\n",
       "    </tr>\n",
       "    <tr>\n",
       "      <th>8</th>\n",
       "      <td>0.75</td>\n",
       "      <td>debit_count_may &amp; debit_count_jun</td>\n",
       "    </tr>\n",
       "    <tr>\n",
       "      <th>9</th>\n",
       "      <td>0.74</td>\n",
       "      <td>dc_count_jun &amp; debit_count_jun</td>\n",
       "    </tr>\n",
       "  </tbody>\n",
       "</table>\n",
       "</div>"
      ],
      "text/plain": [
       "   Corr_value                                   Features\n",
       "0        0.97       debit_amount_jun & credit_amount_jun\n",
       "1        0.93  credit_amount_may & max_credit_amount_may\n",
       "2        0.92       debit_amount_apr & credit_amount_apr\n",
       "3        0.88  credit_amount_apr & max_credit_amount_apr\n",
       "4        0.86       debit_amount_may & credit_amount_may\n",
       "5        0.80  credit_amount_jun & max_credit_amount_jun\n",
       "6        0.78   debit_amount_apr & max_credit_amount_apr\n",
       "7        0.75   debit_amount_jun & max_credit_amount_jun\n",
       "8        0.75          debit_count_may & debit_count_jun\n",
       "9        0.74             dc_count_jun & debit_count_jun"
      ]
     },
     "execution_count": 238,
     "metadata": {},
     "output_type": "execute_result"
    }
   ],
   "source": [
    "create_corr_df(df.drop(['account_type','gender','loan_enq','age_bin'],axis = 1)).head(10)"
   ]
  },
  {
   "cell_type": "code",
   "execution_count": 240,
   "metadata": {
    "collapsed": true
   },
   "outputs": [],
   "source": [
    "# The above are the top 10 columns with high Feature correlation"
   ]
  },
  {
   "cell_type": "code",
   "execution_count": null,
   "metadata": {
    "collapsed": true
   },
   "outputs": [],
   "source": []
  }
 ],
 "metadata": {
  "kernelspec": {
   "display_name": "Python 3",
   "language": "python",
   "name": "python3"
  },
  "language_info": {
   "codemirror_mode": {
    "name": "ipython",
    "version": 3
   },
   "file_extension": ".py",
   "mimetype": "text/x-python",
   "name": "python",
   "nbconvert_exporter": "python",
   "pygments_lexer": "ipython3",
   "version": "3.6.9"
  }
 },
 "nbformat": 4,
 "nbformat_minor": 2
}
